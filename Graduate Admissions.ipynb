{
 "cells": [
  {
   "cell_type": "markdown",
   "metadata": {},
   "source": [
    "<center><h2> Graduate Admissions </h2> </center>"
   ]
  },
  {
   "cell_type": "markdown",
   "metadata": {},
   "source": [
    "https://www.kaggle.com/mohansacharya/graduate-admissions"
   ]
  },
  {
   "cell_type": "markdown",
   "metadata": {},
   "source": [
    "Variables\n",
    "* Serial No.\n",
    "* GRE Scores (290 to 340)\n",
    "* TOEFL Scores (92 to 120)\n",
    "* University Rating (1 to 5)\n",
    "* Statement of Purpose: SOP (1 to 5)\n",
    "* Letter of Recommendation Strength: LOR (1 to 5)\n",
    "* Undergraduate CGPA-Cumulative Grade Point Average (out of 10)\n",
    "* Research Experience (0 or 1)\n",
    "* Chance of Admit (0 to 1)"
   ]
  },
  {
   "cell_type": "markdown",
   "metadata": {},
   "source": [
    "Libraries"
   ]
  },
  {
   "cell_type": "code",
   "execution_count": 26,
   "metadata": {},
   "outputs": [
    {
     "name": "stderr",
     "output_type": "stream",
     "text": [
      "Installing package into 'C:/Users/sitar/R/win-library/3.4'\n",
      "(as 'lib' is unspecified)\n",
      "Warning message:\n",
      "\"package 'questionr' is in use and will not be installed\"Installing package into 'C:/Users/sitar/R/win-library/3.4'\n",
      "(as 'lib' is unspecified)\n",
      "Warning message:\n",
      "\"package 'gbm' is in use and will not be installed\"Installing package into 'C:/Users/sitar/R/win-library/3.4'\n",
      "(as 'lib' is unspecified)\n",
      "Warning message:\n",
      "\"package 'ggplot2' is in use and will not be installed\"Installing package into 'C:/Users/sitar/R/win-library/3.4'\n",
      "(as 'lib' is unspecified)\n",
      "Warning message:\n",
      "\"package 'dplyr' is in use and will not be installed\"Installing package into 'C:/Users/sitar/R/win-library/3.4'\n",
      "(as 'lib' is unspecified)\n",
      "Warning message:\n",
      "\"package 'plyr' is in use and will not be installed\""
     ]
    }
   ],
   "source": [
    "install.packages('questionr')\n",
    "install.packages('gbm')\n",
    "install.packages('ggplot2')\n",
    "install.packages('dplyr')\n",
    "install.packages('plyr')"
   ]
  },
  {
   "cell_type": "code",
   "execution_count": 27,
   "metadata": {},
   "outputs": [],
   "source": [
    "library(dplyr)\n",
    "library('randomForest')\n",
    "library(ggplot2)\n",
    "library('questionr')\n",
    "library('gbm')\n",
    "library('plyr')"
   ]
  },
  {
   "cell_type": "markdown",
   "metadata": {},
   "source": [
    "<h3> I. Preprocessing and Exploratory Data Analysis </h3>"
   ]
  },
  {
   "cell_type": "markdown",
   "metadata": {},
   "source": [
    "Loading dataset"
   ]
  },
  {
   "cell_type": "code",
   "execution_count": 28,
   "metadata": {},
   "outputs": [],
   "source": [
    "df<-read.csv('C:\\\\Users\\\\sitar\\\\Desktop\\\\Projects\\\\Graduate Admissions\\\\Admission_Predict.csv')"
   ]
  },
  {
   "cell_type": "markdown",
   "metadata": {},
   "source": [
    "There are 400 rows and 9 columns in this dataset"
   ]
  },
  {
   "cell_type": "code",
   "execution_count": 29,
   "metadata": {},
   "outputs": [
    {
     "data": {
      "text/html": [
       "<ol class=list-inline>\n",
       "\t<li>400</li>\n",
       "\t<li>9</li>\n",
       "</ol>\n"
      ],
      "text/latex": [
       "\\begin{enumerate*}\n",
       "\\item 400\n",
       "\\item 9\n",
       "\\end{enumerate*}\n"
      ],
      "text/markdown": [
       "1. 400\n",
       "2. 9\n",
       "\n",
       "\n"
      ],
      "text/plain": [
       "[1] 400   9"
      ]
     },
     "metadata": {},
     "output_type": "display_data"
    }
   ],
   "source": [
    "dim(df)"
   ]
  },
  {
   "cell_type": "markdown",
   "metadata": {},
   "source": [
    "First 6 rows of data"
   ]
  },
  {
   "cell_type": "code",
   "execution_count": 30,
   "metadata": {},
   "outputs": [
    {
     "data": {
      "text/html": [
       "<table>\n",
       "<thead><tr><th scope=col>Serial.No.</th><th scope=col>GRE.Score</th><th scope=col>TOEFL.Score</th><th scope=col>University.Rating</th><th scope=col>SOP</th><th scope=col>LOR</th><th scope=col>CGPA</th><th scope=col>Research</th><th scope=col>Chance.of.Admit</th></tr></thead>\n",
       "<tbody>\n",
       "\t<tr><td>1   </td><td>337 </td><td>118 </td><td>4   </td><td>4.5 </td><td>4.5 </td><td>9.65</td><td>1   </td><td>0.92</td></tr>\n",
       "\t<tr><td>2   </td><td>324 </td><td>107 </td><td>4   </td><td>4.0 </td><td>4.5 </td><td>8.87</td><td>1   </td><td>0.76</td></tr>\n",
       "\t<tr><td>3   </td><td>316 </td><td>104 </td><td>3   </td><td>3.0 </td><td>3.5 </td><td>8.00</td><td>1   </td><td>0.72</td></tr>\n",
       "\t<tr><td>4   </td><td>322 </td><td>110 </td><td>3   </td><td>3.5 </td><td>2.5 </td><td>8.67</td><td>1   </td><td>0.80</td></tr>\n",
       "\t<tr><td>5   </td><td>314 </td><td>103 </td><td>2   </td><td>2.0 </td><td>3.0 </td><td>8.21</td><td>0   </td><td>0.65</td></tr>\n",
       "\t<tr><td>6   </td><td>330 </td><td>115 </td><td>5   </td><td>4.5 </td><td>3.0 </td><td>9.34</td><td>1   </td><td>0.90</td></tr>\n",
       "</tbody>\n",
       "</table>\n"
      ],
      "text/latex": [
       "\\begin{tabular}{r|lllllllll}\n",
       " Serial.No. & GRE.Score & TOEFL.Score & University.Rating & SOP & LOR & CGPA & Research & Chance.of.Admit\\\\\n",
       "\\hline\n",
       "\t 1    & 337  & 118  & 4    & 4.5  & 4.5  & 9.65 & 1    & 0.92\\\\\n",
       "\t 2    & 324  & 107  & 4    & 4.0  & 4.5  & 8.87 & 1    & 0.76\\\\\n",
       "\t 3    & 316  & 104  & 3    & 3.0  & 3.5  & 8.00 & 1    & 0.72\\\\\n",
       "\t 4    & 322  & 110  & 3    & 3.5  & 2.5  & 8.67 & 1    & 0.80\\\\\n",
       "\t 5    & 314  & 103  & 2    & 2.0  & 3.0  & 8.21 & 0    & 0.65\\\\\n",
       "\t 6    & 330  & 115  & 5    & 4.5  & 3.0  & 9.34 & 1    & 0.90\\\\\n",
       "\\end{tabular}\n"
      ],
      "text/markdown": [
       "\n",
       "Serial.No. | GRE.Score | TOEFL.Score | University.Rating | SOP | LOR | CGPA | Research | Chance.of.Admit | \n",
       "|---|---|---|---|---|---|\n",
       "| 1    | 337  | 118  | 4    | 4.5  | 4.5  | 9.65 | 1    | 0.92 | \n",
       "| 2    | 324  | 107  | 4    | 4.0  | 4.5  | 8.87 | 1    | 0.76 | \n",
       "| 3    | 316  | 104  | 3    | 3.0  | 3.5  | 8.00 | 1    | 0.72 | \n",
       "| 4    | 322  | 110  | 3    | 3.5  | 2.5  | 8.67 | 1    | 0.80 | \n",
       "| 5    | 314  | 103  | 2    | 2.0  | 3.0  | 8.21 | 0    | 0.65 | \n",
       "| 6    | 330  | 115  | 5    | 4.5  | 3.0  | 9.34 | 1    | 0.90 | \n",
       "\n",
       "\n"
      ],
      "text/plain": [
       "  Serial.No. GRE.Score TOEFL.Score University.Rating SOP LOR CGPA Research\n",
       "1 1          337       118         4                 4.5 4.5 9.65 1       \n",
       "2 2          324       107         4                 4.0 4.5 8.87 1       \n",
       "3 3          316       104         3                 3.0 3.5 8.00 1       \n",
       "4 4          322       110         3                 3.5 2.5 8.67 1       \n",
       "5 5          314       103         2                 2.0 3.0 8.21 0       \n",
       "6 6          330       115         5                 4.5 3.0 9.34 1       \n",
       "  Chance.of.Admit\n",
       "1 0.92           \n",
       "2 0.76           \n",
       "3 0.72           \n",
       "4 0.80           \n",
       "5 0.65           \n",
       "6 0.90           "
      ]
     },
     "metadata": {},
     "output_type": "display_data"
    }
   ],
   "source": [
    "head(df)"
   ]
  },
  {
   "cell_type": "markdown",
   "metadata": {},
   "source": [
    "Datatypes of each column"
   ]
  },
  {
   "cell_type": "code",
   "execution_count": 31,
   "metadata": {},
   "outputs": [
    {
     "data": {
      "text/html": [
       "<dl class=dl-horizontal>\n",
       "\t<dt>Serial.No.</dt>\n",
       "\t\t<dd>'integer'</dd>\n",
       "\t<dt>GRE.Score</dt>\n",
       "\t\t<dd>'integer'</dd>\n",
       "\t<dt>TOEFL.Score</dt>\n",
       "\t\t<dd>'integer'</dd>\n",
       "\t<dt>University.Rating</dt>\n",
       "\t\t<dd>'integer'</dd>\n",
       "\t<dt>SOP</dt>\n",
       "\t\t<dd>'numeric'</dd>\n",
       "\t<dt>LOR</dt>\n",
       "\t\t<dd>'numeric'</dd>\n",
       "\t<dt>CGPA</dt>\n",
       "\t\t<dd>'numeric'</dd>\n",
       "\t<dt>Research</dt>\n",
       "\t\t<dd>'integer'</dd>\n",
       "\t<dt>Chance.of.Admit</dt>\n",
       "\t\t<dd>'numeric'</dd>\n",
       "</dl>\n"
      ],
      "text/latex": [
       "\\begin{description*}\n",
       "\\item[Serial.No.] 'integer'\n",
       "\\item[GRE.Score] 'integer'\n",
       "\\item[TOEFL.Score] 'integer'\n",
       "\\item[University.Rating] 'integer'\n",
       "\\item[SOP] 'numeric'\n",
       "\\item[LOR] 'numeric'\n",
       "\\item[CGPA] 'numeric'\n",
       "\\item[Research] 'integer'\n",
       "\\item[Chance.of.Admit] 'numeric'\n",
       "\\end{description*}\n"
      ],
      "text/markdown": [
       "Serial.No.\n",
       ":   'integer'GRE.Score\n",
       ":   'integer'TOEFL.Score\n",
       ":   'integer'University.Rating\n",
       ":   'integer'SOP\n",
       ":   'numeric'LOR\n",
       ":   'numeric'CGPA\n",
       ":   'numeric'Research\n",
       ":   'integer'Chance.of.Admit\n",
       ":   'numeric'\n",
       "\n"
      ],
      "text/plain": [
       "       Serial.No.         GRE.Score       TOEFL.Score University.Rating \n",
       "        \"integer\"         \"integer\"         \"integer\"         \"integer\" \n",
       "              SOP               LOR              CGPA          Research \n",
       "        \"numeric\"         \"numeric\"         \"numeric\"         \"integer\" \n",
       "  Chance.of.Admit \n",
       "        \"numeric\" "
      ]
     },
     "metadata": {},
     "output_type": "display_data"
    }
   ],
   "source": [
    "sapply(df, class)"
   ]
  },
  {
   "cell_type": "markdown",
   "metadata": {},
   "source": [
    "Number of nulls in each column"
   ]
  },
  {
   "cell_type": "code",
   "execution_count": 32,
   "metadata": {},
   "outputs": [
    {
     "data": {
      "text/html": [
       "<dl class=dl-horizontal>\n",
       "\t<dt>Serial.No.</dt>\n",
       "\t\t<dd>0</dd>\n",
       "\t<dt>GRE.Score</dt>\n",
       "\t\t<dd>0</dd>\n",
       "\t<dt>TOEFL.Score</dt>\n",
       "\t\t<dd>0</dd>\n",
       "\t<dt>University.Rating</dt>\n",
       "\t\t<dd>0</dd>\n",
       "\t<dt>SOP</dt>\n",
       "\t\t<dd>0</dd>\n",
       "\t<dt>LOR</dt>\n",
       "\t\t<dd>0</dd>\n",
       "\t<dt>CGPA</dt>\n",
       "\t\t<dd>0</dd>\n",
       "\t<dt>Research</dt>\n",
       "\t\t<dd>0</dd>\n",
       "\t<dt>Chance.of.Admit</dt>\n",
       "\t\t<dd>0</dd>\n",
       "</dl>\n"
      ],
      "text/latex": [
       "\\begin{description*}\n",
       "\\item[Serial.No.] 0\n",
       "\\item[GRE.Score] 0\n",
       "\\item[TOEFL.Score] 0\n",
       "\\item[University.Rating] 0\n",
       "\\item[SOP] 0\n",
       "\\item[LOR] 0\n",
       "\\item[CGPA] 0\n",
       "\\item[Research] 0\n",
       "\\item[Chance.of.Admit] 0\n",
       "\\end{description*}\n"
      ],
      "text/markdown": [
       "Serial.No.\n",
       ":   0GRE.Score\n",
       ":   0TOEFL.Score\n",
       ":   0University.Rating\n",
       ":   0SOP\n",
       ":   0LOR\n",
       ":   0CGPA\n",
       ":   0Research\n",
       ":   0Chance.of.Admit\n",
       ":   0\n",
       "\n"
      ],
      "text/plain": [
       "       Serial.No.         GRE.Score       TOEFL.Score University.Rating \n",
       "                0                 0                 0                 0 \n",
       "              SOP               LOR              CGPA          Research \n",
       "                0                 0                 0                 0 \n",
       "  Chance.of.Admit \n",
       "                0 "
      ]
     },
     "metadata": {},
     "output_type": "display_data"
    }
   ],
   "source": [
    "sapply(df, function(x) sum(is.na(x)))"
   ]
  },
  {
   "cell_type": "markdown",
   "metadata": {},
   "source": [
    "Since there are no nulls we don't need to do anything more"
   ]
  },
  {
   "cell_type": "markdown",
   "metadata": {},
   "source": [
    "Summary statistics of the data"
   ]
  },
  {
   "cell_type": "code",
   "execution_count": 33,
   "metadata": {},
   "outputs": [
    {
     "data": {
      "text/plain": [
       "   Serial.No.      GRE.Score      TOEFL.Score    University.Rating\n",
       " Min.   :  1.0   Min.   :290.0   Min.   : 92.0   Min.   :1.000    \n",
       " 1st Qu.:100.8   1st Qu.:308.0   1st Qu.:103.0   1st Qu.:2.000    \n",
       " Median :200.5   Median :317.0   Median :107.0   Median :3.000    \n",
       " Mean   :200.5   Mean   :316.8   Mean   :107.4   Mean   :3.087    \n",
       " 3rd Qu.:300.2   3rd Qu.:325.0   3rd Qu.:112.0   3rd Qu.:4.000    \n",
       " Max.   :400.0   Max.   :340.0   Max.   :120.0   Max.   :5.000    \n",
       "      SOP           LOR             CGPA          Research     \n",
       " Min.   :1.0   Min.   :1.000   Min.   :6.800   Min.   :0.0000  \n",
       " 1st Qu.:2.5   1st Qu.:3.000   1st Qu.:8.170   1st Qu.:0.0000  \n",
       " Median :3.5   Median :3.500   Median :8.610   Median :1.0000  \n",
       " Mean   :3.4   Mean   :3.453   Mean   :8.599   Mean   :0.5475  \n",
       " 3rd Qu.:4.0   3rd Qu.:4.000   3rd Qu.:9.062   3rd Qu.:1.0000  \n",
       " Max.   :5.0   Max.   :5.000   Max.   :9.920   Max.   :1.0000  \n",
       " Chance.of.Admit \n",
       " Min.   :0.3400  \n",
       " 1st Qu.:0.6400  \n",
       " Median :0.7300  \n",
       " Mean   :0.7244  \n",
       " 3rd Qu.:0.8300  \n",
       " Max.   :0.9700  "
      ]
     },
     "metadata": {},
     "output_type": "display_data"
    }
   ],
   "source": [
    "summary(df)"
   ]
  },
  {
   "cell_type": "code",
   "execution_count": 34,
   "metadata": {},
   "outputs": [
    {
     "data": {
      "text/html": [
       "<table>\n",
       "<thead><tr><th scope=col>GRE.Score</th><th scope=col>freq</th><th scope=col>Percentage</th></tr></thead>\n",
       "<tbody>\n",
       "\t<tr><td>293    </td><td> 1     </td><td>0.25 % </td></tr>\n",
       "\t<tr><td>337    </td><td> 1     </td><td>0.25 % </td></tr>\n",
       "\t<tr><td>290    </td><td> 2     </td><td>0.5 %  </td></tr>\n",
       "\t<tr><td>294    </td><td> 2     </td><td>0.5 %  </td></tr>\n",
       "\t<tr><td>339    </td><td> 3     </td><td>0.75 % </td></tr>\n",
       "\t<tr><td>295    </td><td> 4     </td><td>1 %    </td></tr>\n",
       "\t<tr><td>297    </td><td> 4     </td><td>1 %    </td></tr>\n",
       "\t<tr><td>333    </td><td> 4     </td><td>1 %    </td></tr>\n",
       "\t<tr><td>335    </td><td> 4     </td><td>1 %    </td></tr>\n",
       "\t<tr><td>338    </td><td> 4     </td><td>1 %    </td></tr>\n",
       "\t<tr><td>296    </td><td> 5     </td><td>1.25 % </td></tr>\n",
       "\t<tr><td>302    </td><td> 5     </td><td>1.25 % </td></tr>\n",
       "\t<tr><td>303    </td><td> 5     </td><td>1.25 % </td></tr>\n",
       "\t<tr><td>336    </td><td> 5     </td><td>1.25 % </td></tr>\n",
       "\t<tr><td>306    </td><td> 6     </td><td>1.5 %  </td></tr>\n",
       "\t<tr><td>309    </td><td> 6     </td><td>1.5 %  </td></tr>\n",
       "\t<tr><td>328    </td><td> 6     </td><td>1.5 %  </td></tr>\n",
       "\t<tr><td>330    </td><td> 6     </td><td>1.5 %  </td></tr>\n",
       "\t<tr><td>332    </td><td> 6     </td><td>1.5 %  </td></tr>\n",
       "\t<tr><td>298    </td><td> 7     </td><td>1.75 % </td></tr>\n",
       "\t<tr><td>334    </td><td> 7     </td><td>1.75 % </td></tr>\n",
       "\t<tr><td>299    </td><td> 8     </td><td>2 %    </td></tr>\n",
       "\t<tr><td>301    </td><td> 8     </td><td>2 %    </td></tr>\n",
       "\t<tr><td>304    </td><td> 8     </td><td>2 %    </td></tr>\n",
       "\t<tr><td>305    </td><td> 8     </td><td>2 %    </td></tr>\n",
       "\t<tr><td>307    </td><td> 8     </td><td>2 %    </td></tr>\n",
       "\t<tr><td>310    </td><td> 8     </td><td>2 %    </td></tr>\n",
       "\t<tr><td>331    </td><td> 8     </td><td>2 %    </td></tr>\n",
       "\t<tr><td>340    </td><td> 8     </td><td>2 %    </td></tr>\n",
       "\t<tr><td>300    </td><td> 9     </td><td>2.25 % </td></tr>\n",
       "\t<tr><td>318    </td><td> 9     </td><td>2.25 % </td></tr>\n",
       "\t<tr><td>319    </td><td> 9     </td><td>2.25 % </td></tr>\n",
       "\t<tr><td>329    </td><td> 9     </td><td>2.25 % </td></tr>\n",
       "\t<tr><td>315    </td><td>10     </td><td>2.5 %  </td></tr>\n",
       "\t<tr><td>323    </td><td>10     </td><td>2.5 %  </td></tr>\n",
       "\t<tr><td>308    </td><td>11     </td><td>2.75 % </td></tr>\n",
       "\t<tr><td>313    </td><td>11     </td><td>2.75 % </td></tr>\n",
       "\t<tr><td>326    </td><td>11     </td><td>2.75 % </td></tr>\n",
       "\t<tr><td>311    </td><td>12     </td><td>3 %    </td></tr>\n",
       "\t<tr><td>317    </td><td>12     </td><td>3 %    </td></tr>\n",
       "\t<tr><td>320    </td><td>12     </td><td>3 %    </td></tr>\n",
       "\t<tr><td>327    </td><td>12     </td><td>3 %    </td></tr>\n",
       "\t<tr><td>321    </td><td>13     </td><td>3.25 % </td></tr>\n",
       "\t<tr><td>325    </td><td>13     </td><td>3.25 % </td></tr>\n",
       "\t<tr><td>314    </td><td>14     </td><td>3.5 %  </td></tr>\n",
       "\t<tr><td>316    </td><td>14     </td><td>3.5 %  </td></tr>\n",
       "\t<tr><td>322    </td><td>14     </td><td>3.5 %  </td></tr>\n",
       "\t<tr><td>312    </td><td>19     </td><td>4.75 % </td></tr>\n",
       "\t<tr><td>324    </td><td>19     </td><td>4.75 % </td></tr>\n",
       "</tbody>\n",
       "</table>\n"
      ],
      "text/latex": [
       "\\begin{tabular}{r|lll}\n",
       " GRE.Score & freq & Percentage\\\\\n",
       "\\hline\n",
       "\t 293       &  1        & 0.25 \\% \\\\\n",
       "\t 337       &  1        & 0.25 \\% \\\\\n",
       "\t 290       &  2        & 0.5 \\%  \\\\\n",
       "\t 294       &  2        & 0.5 \\%  \\\\\n",
       "\t 339       &  3        & 0.75 \\% \\\\\n",
       "\t 295       &  4        & 1 \\%    \\\\\n",
       "\t 297       &  4        & 1 \\%    \\\\\n",
       "\t 333       &  4        & 1 \\%    \\\\\n",
       "\t 335       &  4        & 1 \\%    \\\\\n",
       "\t 338       &  4        & 1 \\%    \\\\\n",
       "\t 296       &  5        & 1.25 \\% \\\\\n",
       "\t 302       &  5        & 1.25 \\% \\\\\n",
       "\t 303       &  5        & 1.25 \\% \\\\\n",
       "\t 336       &  5        & 1.25 \\% \\\\\n",
       "\t 306       &  6        & 1.5 \\%  \\\\\n",
       "\t 309       &  6        & 1.5 \\%  \\\\\n",
       "\t 328       &  6        & 1.5 \\%  \\\\\n",
       "\t 330       &  6        & 1.5 \\%  \\\\\n",
       "\t 332       &  6        & 1.5 \\%  \\\\\n",
       "\t 298       &  7        & 1.75 \\% \\\\\n",
       "\t 334       &  7        & 1.75 \\% \\\\\n",
       "\t 299       &  8        & 2 \\%    \\\\\n",
       "\t 301       &  8        & 2 \\%    \\\\\n",
       "\t 304       &  8        & 2 \\%    \\\\\n",
       "\t 305       &  8        & 2 \\%    \\\\\n",
       "\t 307       &  8        & 2 \\%    \\\\\n",
       "\t 310       &  8        & 2 \\%    \\\\\n",
       "\t 331       &  8        & 2 \\%    \\\\\n",
       "\t 340       &  8        & 2 \\%    \\\\\n",
       "\t 300       &  9        & 2.25 \\% \\\\\n",
       "\t 318       &  9        & 2.25 \\% \\\\\n",
       "\t 319       &  9        & 2.25 \\% \\\\\n",
       "\t 329       &  9        & 2.25 \\% \\\\\n",
       "\t 315       & 10        & 2.5 \\%  \\\\\n",
       "\t 323       & 10        & 2.5 \\%  \\\\\n",
       "\t 308       & 11        & 2.75 \\% \\\\\n",
       "\t 313       & 11        & 2.75 \\% \\\\\n",
       "\t 326       & 11        & 2.75 \\% \\\\\n",
       "\t 311       & 12        & 3 \\%    \\\\\n",
       "\t 317       & 12        & 3 \\%    \\\\\n",
       "\t 320       & 12        & 3 \\%    \\\\\n",
       "\t 327       & 12        & 3 \\%    \\\\\n",
       "\t 321       & 13        & 3.25 \\% \\\\\n",
       "\t 325       & 13        & 3.25 \\% \\\\\n",
       "\t 314       & 14        & 3.5 \\%  \\\\\n",
       "\t 316       & 14        & 3.5 \\%  \\\\\n",
       "\t 322       & 14        & 3.5 \\%  \\\\\n",
       "\t 312       & 19        & 4.75 \\% \\\\\n",
       "\t 324       & 19        & 4.75 \\% \\\\\n",
       "\\end{tabular}\n"
      ],
      "text/markdown": [
       "\n",
       "GRE.Score | freq | Percentage | \n",
       "|---|---|---|---|---|---|---|---|---|---|---|---|---|---|---|---|---|---|---|---|---|---|---|---|---|---|---|---|---|---|---|---|---|---|---|---|---|---|---|---|---|---|---|---|---|---|---|---|---|\n",
       "| 293     |  1      | 0.25 %  | \n",
       "| 337     |  1      | 0.25 %  | \n",
       "| 290     |  2      | 0.5 %   | \n",
       "| 294     |  2      | 0.5 %   | \n",
       "| 339     |  3      | 0.75 %  | \n",
       "| 295     |  4      | 1 %     | \n",
       "| 297     |  4      | 1 %     | \n",
       "| 333     |  4      | 1 %     | \n",
       "| 335     |  4      | 1 %     | \n",
       "| 338     |  4      | 1 %     | \n",
       "| 296     |  5      | 1.25 %  | \n",
       "| 302     |  5      | 1.25 %  | \n",
       "| 303     |  5      | 1.25 %  | \n",
       "| 336     |  5      | 1.25 %  | \n",
       "| 306     |  6      | 1.5 %   | \n",
       "| 309     |  6      | 1.5 %   | \n",
       "| 328     |  6      | 1.5 %   | \n",
       "| 330     |  6      | 1.5 %   | \n",
       "| 332     |  6      | 1.5 %   | \n",
       "| 298     |  7      | 1.75 %  | \n",
       "| 334     |  7      | 1.75 %  | \n",
       "| 299     |  8      | 2 %     | \n",
       "| 301     |  8      | 2 %     | \n",
       "| 304     |  8      | 2 %     | \n",
       "| 305     |  8      | 2 %     | \n",
       "| 307     |  8      | 2 %     | \n",
       "| 310     |  8      | 2 %     | \n",
       "| 331     |  8      | 2 %     | \n",
       "| 340     |  8      | 2 %     | \n",
       "| 300     |  9      | 2.25 %  | \n",
       "| 318     |  9      | 2.25 %  | \n",
       "| 319     |  9      | 2.25 %  | \n",
       "| 329     |  9      | 2.25 %  | \n",
       "| 315     | 10      | 2.5 %   | \n",
       "| 323     | 10      | 2.5 %   | \n",
       "| 308     | 11      | 2.75 %  | \n",
       "| 313     | 11      | 2.75 %  | \n",
       "| 326     | 11      | 2.75 %  | \n",
       "| 311     | 12      | 3 %     | \n",
       "| 317     | 12      | 3 %     | \n",
       "| 320     | 12      | 3 %     | \n",
       "| 327     | 12      | 3 %     | \n",
       "| 321     | 13      | 3.25 %  | \n",
       "| 325     | 13      | 3.25 %  | \n",
       "| 314     | 14      | 3.5 %   | \n",
       "| 316     | 14      | 3.5 %   | \n",
       "| 322     | 14      | 3.5 %   | \n",
       "| 312     | 19      | 4.75 %  | \n",
       "| 324     | 19      | 4.75 %  | \n",
       "\n",
       "\n"
      ],
      "text/plain": [
       "   GRE.Score freq Percentage\n",
       "1  293        1   0.25 %    \n",
       "2  337        1   0.25 %    \n",
       "3  290        2   0.5 %     \n",
       "4  294        2   0.5 %     \n",
       "5  339        3   0.75 %    \n",
       "6  295        4   1 %       \n",
       "7  297        4   1 %       \n",
       "8  333        4   1 %       \n",
       "9  335        4   1 %       \n",
       "10 338        4   1 %       \n",
       "11 296        5   1.25 %    \n",
       "12 302        5   1.25 %    \n",
       "13 303        5   1.25 %    \n",
       "14 336        5   1.25 %    \n",
       "15 306        6   1.5 %     \n",
       "16 309        6   1.5 %     \n",
       "17 328        6   1.5 %     \n",
       "18 330        6   1.5 %     \n",
       "19 332        6   1.5 %     \n",
       "20 298        7   1.75 %    \n",
       "21 334        7   1.75 %    \n",
       "22 299        8   2 %       \n",
       "23 301        8   2 %       \n",
       "24 304        8   2 %       \n",
       "25 305        8   2 %       \n",
       "26 307        8   2 %       \n",
       "27 310        8   2 %       \n",
       "28 331        8   2 %       \n",
       "29 340        8   2 %       \n",
       "30 300        9   2.25 %    \n",
       "31 318        9   2.25 %    \n",
       "32 319        9   2.25 %    \n",
       "33 329        9   2.25 %    \n",
       "34 315       10   2.5 %     \n",
       "35 323       10   2.5 %     \n",
       "36 308       11   2.75 %    \n",
       "37 313       11   2.75 %    \n",
       "38 326       11   2.75 %    \n",
       "39 311       12   3 %       \n",
       "40 317       12   3 %       \n",
       "41 320       12   3 %       \n",
       "42 327       12   3 %       \n",
       "43 321       13   3.25 %    \n",
       "44 325       13   3.25 %    \n",
       "45 314       14   3.5 %     \n",
       "46 316       14   3.5 %     \n",
       "47 322       14   3.5 %     \n",
       "48 312       19   4.75 %    \n",
       "49 324       19   4.75 %    "
      ]
     },
     "metadata": {},
     "output_type": "display_data"
    }
   ],
   "source": [
    "dfGRE<-count(df, vars='GRE.Score')\n",
    "dfGRE<-dfGRE[order(dfGRE$freq),]\n",
    "dfGRE$Percentage<-(dfGRE$freq/sum(dfGRE$freq))*100\n",
    "dfGRE$Percentage<- paste(as.character(dfGRE$Percentage), '%', '')\n",
    "rownames(dfGRE)<-NULL\n",
    "dfGRE"
   ]
  },
  {
   "cell_type": "code",
   "execution_count": 35,
   "metadata": {},
   "outputs": [
    {
     "data": {},
     "metadata": {},
     "output_type": "display_data"
    },
    {
     "data": {
      "image/png": "[encoded data removed]",
      "text/plain": [
       "plot without title"
      ]
     },
     "metadata": {},
     "output_type": "display_data"
    }
   ],
   "source": [
    "p<-ggplot(data=dfGRE, aes(x=GRE.Score, y=freq, color=GRE.Score)) +geom_bar(stat=\"identity\", fill=\"white\")+\n",
    "geom_text(aes(label=freq), vjust=1.6,position = position_dodge(0.1), size=3.0)\n",
    "p"
   ]
  },
  {
   "cell_type": "code",
   "execution_count": 36,
   "metadata": {},
   "outputs": [
    {
     "data": {
      "text/html": [
       "<table>\n",
       "<thead><tr><th scope=col>TOEFL.Score</th><th scope=col>freq</th><th scope=col>Percentage</th></tr></thead>\n",
       "<tbody>\n",
       "\t<tr><td> 92    </td><td> 1     </td><td>0.25 % </td></tr>\n",
       "\t<tr><td> 94    </td><td> 1     </td><td>0.25 % </td></tr>\n",
       "\t<tr><td> 93    </td><td> 2     </td><td>0.5 %  </td></tr>\n",
       "\t<tr><td> 95    </td><td> 2     </td><td>0.5 %  </td></tr>\n",
       "\t<tr><td> 96    </td><td> 4     </td><td>1 %    </td></tr>\n",
       "\t<tr><td> 97    </td><td> 6     </td><td>1.5 %  </td></tr>\n",
       "\t<tr><td>117    </td><td> 7     </td><td>1.75 % </td></tr>\n",
       "\t<tr><td>120    </td><td> 8     </td><td>2 %    </td></tr>\n",
       "\t<tr><td> 98    </td><td> 9     </td><td>2.25 % </td></tr>\n",
       "\t<tr><td>115    </td><td> 9     </td><td>2.25 % </td></tr>\n",
       "\t<tr><td>118    </td><td> 9     </td><td>2.25 % </td></tr>\n",
       "\t<tr><td>119    </td><td> 9     </td><td>2.25 % </td></tr>\n",
       "\t<tr><td>101    </td><td>11     </td><td>2.75 % </td></tr>\n",
       "\t<tr><td>116    </td><td>11     </td><td>2.75 % </td></tr>\n",
       "\t<tr><td>113    </td><td>14     </td><td>3.5 %  </td></tr>\n",
       "\t<tr><td>114    </td><td>15     </td><td>3.75 % </td></tr>\n",
       "\t<tr><td>103    </td><td>16     </td><td>4 %    </td></tr>\n",
       "\t<tr><td>102    </td><td>17     </td><td>4.25 % </td></tr>\n",
       "\t<tr><td>108    </td><td>17     </td><td>4.25 % </td></tr>\n",
       "\t<tr><td>109    </td><td>17     </td><td>4.25 % </td></tr>\n",
       "\t<tr><td>111    </td><td>17     </td><td>4.25 % </td></tr>\n",
       "\t<tr><td> 99    </td><td>18     </td><td>4.5 %  </td></tr>\n",
       "\t<tr><td>100    </td><td>19     </td><td>4.75 % </td></tr>\n",
       "\t<tr><td>112    </td><td>21     </td><td>5.25 % </td></tr>\n",
       "\t<tr><td>106    </td><td>24     </td><td>6 %    </td></tr>\n",
       "\t<tr><td>104    </td><td>25     </td><td>6.25 % </td></tr>\n",
       "\t<tr><td>107    </td><td>26     </td><td>6.5 %  </td></tr>\n",
       "\t<tr><td>105    </td><td>28     </td><td>7 %    </td></tr>\n",
       "\t<tr><td>110    </td><td>37     </td><td>9.25 % </td></tr>\n",
       "</tbody>\n",
       "</table>\n"
      ],
      "text/latex": [
       "\\begin{tabular}{r|lll}\n",
       " TOEFL.Score & freq & Percentage\\\\\n",
       "\\hline\n",
       "\t  92       &  1        & 0.25 \\% \\\\\n",
       "\t  94       &  1        & 0.25 \\% \\\\\n",
       "\t  93       &  2        & 0.5 \\%  \\\\\n",
       "\t  95       &  2        & 0.5 \\%  \\\\\n",
       "\t  96       &  4        & 1 \\%    \\\\\n",
       "\t  97       &  6        & 1.5 \\%  \\\\\n",
       "\t 117       &  7        & 1.75 \\% \\\\\n",
       "\t 120       &  8        & 2 \\%    \\\\\n",
       "\t  98       &  9        & 2.25 \\% \\\\\n",
       "\t 115       &  9        & 2.25 \\% \\\\\n",
       "\t 118       &  9        & 2.25 \\% \\\\\n",
       "\t 119       &  9        & 2.25 \\% \\\\\n",
       "\t 101       & 11        & 2.75 \\% \\\\\n",
       "\t 116       & 11        & 2.75 \\% \\\\\n",
       "\t 113       & 14        & 3.5 \\%  \\\\\n",
       "\t 114       & 15        & 3.75 \\% \\\\\n",
       "\t 103       & 16        & 4 \\%    \\\\\n",
       "\t 102       & 17        & 4.25 \\% \\\\\n",
       "\t 108       & 17        & 4.25 \\% \\\\\n",
       "\t 109       & 17        & 4.25 \\% \\\\\n",
       "\t 111       & 17        & 4.25 \\% \\\\\n",
       "\t  99       & 18        & 4.5 \\%  \\\\\n",
       "\t 100       & 19        & 4.75 \\% \\\\\n",
       "\t 112       & 21        & 5.25 \\% \\\\\n",
       "\t 106       & 24        & 6 \\%    \\\\\n",
       "\t 104       & 25        & 6.25 \\% \\\\\n",
       "\t 107       & 26        & 6.5 \\%  \\\\\n",
       "\t 105       & 28        & 7 \\%    \\\\\n",
       "\t 110       & 37        & 9.25 \\% \\\\\n",
       "\\end{tabular}\n"
      ],
      "text/markdown": [
       "\n",
       "TOEFL.Score | freq | Percentage | \n",
       "|---|---|---|---|---|---|---|---|---|---|---|---|---|---|---|---|---|---|---|---|---|---|---|---|---|---|---|---|---|\n",
       "|  92     |  1      | 0.25 %  | \n",
       "|  94     |  1      | 0.25 %  | \n",
       "|  93     |  2      | 0.5 %   | \n",
       "|  95     |  2      | 0.5 %   | \n",
       "|  96     |  4      | 1 %     | \n",
       "|  97     |  6      | 1.5 %   | \n",
       "| 117     |  7      | 1.75 %  | \n",
       "| 120     |  8      | 2 %     | \n",
       "|  98     |  9      | 2.25 %  | \n",
       "| 115     |  9      | 2.25 %  | \n",
       "| 118     |  9      | 2.25 %  | \n",
       "| 119     |  9      | 2.25 %  | \n",
       "| 101     | 11      | 2.75 %  | \n",
       "| 116     | 11      | 2.75 %  | \n",
       "| 113     | 14      | 3.5 %   | \n",
       "| 114     | 15      | 3.75 %  | \n",
       "| 103     | 16      | 4 %     | \n",
       "| 102     | 17      | 4.25 %  | \n",
       "| 108     | 17      | 4.25 %  | \n",
       "| 109     | 17      | 4.25 %  | \n",
       "| 111     | 17      | 4.25 %  | \n",
       "|  99     | 18      | 4.5 %   | \n",
       "| 100     | 19      | 4.75 %  | \n",
       "| 112     | 21      | 5.25 %  | \n",
       "| 106     | 24      | 6 %     | \n",
       "| 104     | 25      | 6.25 %  | \n",
       "| 107     | 26      | 6.5 %   | \n",
       "| 105     | 28      | 7 %     | \n",
       "| 110     | 37      | 9.25 %  | \n",
       "\n",
       "\n"
      ],
      "text/plain": [
       "   TOEFL.Score freq Percentage\n",
       "1   92          1   0.25 %    \n",
       "2   94          1   0.25 %    \n",
       "3   93          2   0.5 %     \n",
       "4   95          2   0.5 %     \n",
       "5   96          4   1 %       \n",
       "6   97          6   1.5 %     \n",
       "7  117          7   1.75 %    \n",
       "8  120          8   2 %       \n",
       "9   98          9   2.25 %    \n",
       "10 115          9   2.25 %    \n",
       "11 118          9   2.25 %    \n",
       "12 119          9   2.25 %    \n",
       "13 101         11   2.75 %    \n",
       "14 116         11   2.75 %    \n",
       "15 113         14   3.5 %     \n",
       "16 114         15   3.75 %    \n",
       "17 103         16   4 %       \n",
       "18 102         17   4.25 %    \n",
       "19 108         17   4.25 %    \n",
       "20 109         17   4.25 %    \n",
       "21 111         17   4.25 %    \n",
       "22  99         18   4.5 %     \n",
       "23 100         19   4.75 %    \n",
       "24 112         21   5.25 %    \n",
       "25 106         24   6 %       \n",
       "26 104         25   6.25 %    \n",
       "27 107         26   6.5 %     \n",
       "28 105         28   7 %       \n",
       "29 110         37   9.25 %    "
      ]
     },
     "metadata": {},
     "output_type": "display_data"
    }
   ],
   "source": [
    "dfTOEFL<-count(df, vars='TOEFL.Score')\n",
    "dfTOEFL<-dfTOEFL[order(dfTOEFL$freq),]\n",
    "dfTOEFL$Percentage<-(dfTOEFL$freq/sum(dfTOEFL$freq))*100\n",
    "dfTOEFL$Percentage<- paste(as.character(dfTOEFL$Percentage), '%', '')\n",
    "rownames(dfTOEFL)<-NULL\n",
    "dfTOEFL"
   ]
  },
  {
   "cell_type": "code",
   "execution_count": 37,
   "metadata": {
    "scrolled": false
   },
   "outputs": [
    {
     "data": {},
     "metadata": {},
     "output_type": "display_data"
    },
    {
     "data": {
      "image/png": "[encoded data removed]",
      "text/plain": [
       "plot without title"
      ]
     },
     "metadata": {},
     "output_type": "display_data"
    }
   ],
   "source": [
    "p<-ggplot(data=dfTOEFL, aes(x=TOEFL.Score, y=freq, color=TOEFL.Score)) +geom_bar(stat=\"identity\", fill=\"white\")+\n",
    "geom_text(aes(label=freq), vjust=1.6,position = position_dodge(0.9), size=3.0)\n",
    "p"
   ]
  },
  {
   "cell_type": "code",
   "execution_count": 38,
   "metadata": {},
   "outputs": [
    {
     "data": {
      "text/html": [
       "<table>\n",
       "<thead><tr><th scope=col>University.Rating</th><th scope=col>freq</th><th scope=col>Percentage</th></tr></thead>\n",
       "<tbody>\n",
       "\t<tr><td>1       </td><td> 26     </td><td>6.5 %   </td></tr>\n",
       "\t<tr><td>5       </td><td> 60     </td><td>15 %    </td></tr>\n",
       "\t<tr><td>4       </td><td> 74     </td><td>18.5 %  </td></tr>\n",
       "\t<tr><td>2       </td><td>107     </td><td>26.75 % </td></tr>\n",
       "\t<tr><td>3       </td><td>133     </td><td>33.25 % </td></tr>\n",
       "</tbody>\n",
       "</table>\n"
      ],
      "text/latex": [
       "\\begin{tabular}{r|lll}\n",
       " University.Rating & freq & Percentage\\\\\n",
       "\\hline\n",
       "\t 1          &  26        & 6.5 \\%   \\\\\n",
       "\t 5          &  60        & 15 \\%    \\\\\n",
       "\t 4          &  74        & 18.5 \\%  \\\\\n",
       "\t 2          & 107        & 26.75 \\% \\\\\n",
       "\t 3          & 133        & 33.25 \\% \\\\\n",
       "\\end{tabular}\n"
      ],
      "text/markdown": [
       "\n",
       "University.Rating | freq | Percentage | \n",
       "|---|---|---|---|---|\n",
       "| 1        |  26      | 6.5 %    | \n",
       "| 5        |  60      | 15 %     | \n",
       "| 4        |  74      | 18.5 %   | \n",
       "| 2        | 107      | 26.75 %  | \n",
       "| 3        | 133      | 33.25 %  | \n",
       "\n",
       "\n"
      ],
      "text/plain": [
       "  University.Rating freq Percentage\n",
       "1 1                  26  6.5 %     \n",
       "2 5                  60  15 %      \n",
       "3 4                  74  18.5 %    \n",
       "4 2                 107  26.75 %   \n",
       "5 3                 133  33.25 %   "
      ]
     },
     "metadata": {},
     "output_type": "display_data"
    }
   ],
   "source": [
    "dfRating<-count(df, vars='University.Rating')\n",
    "dfRating<-dfRating[order(dfRating$freq),]\n",
    "dfRating$Percentage<-(dfRating$freq/sum(dfRating$freq))*100\n",
    "dfRating$Percentage<- paste(as.character(dfRating$Percentage), '%', '')\n",
    "rownames(dfRating)<-NULL\n",
    "dfRating"
   ]
  },
  {
   "cell_type": "code",
   "execution_count": 39,
   "metadata": {},
   "outputs": [
    {
     "data": {},
     "metadata": {},
     "output_type": "display_data"
    },
    {
     "data": {
      "image/png": "[encoded data removed]",
      "text/plain": [
       "plot without title"
      ]
     },
     "metadata": {},
     "output_type": "display_data"
    }
   ],
   "source": [
    "p<-ggplot(data=dfRating, aes(x=University.Rating, y=freq, color=University.Rating)) +geom_bar(stat=\"identity\", fill=\"white\")+\n",
    "geom_text(aes(label=freq), vjust=1.6,position = position_dodge(0.9), size=3.0)\n",
    "p"
   ]
  },
  {
   "cell_type": "code",
   "execution_count": 40,
   "metadata": {},
   "outputs": [
    {
     "data": {
      "text/html": [
       "<table>\n",
       "<thead><tr><th scope=col>Research</th><th scope=col>freq</th><th scope=col>Percentage</th></tr></thead>\n",
       "<tbody>\n",
       "\t<tr><td>0       </td><td>181     </td><td>45.25 % </td></tr>\n",
       "\t<tr><td>1       </td><td>219     </td><td>54.75 % </td></tr>\n",
       "</tbody>\n",
       "</table>\n"
      ],
      "text/latex": [
       "\\begin{tabular}{r|lll}\n",
       " Research & freq & Percentage\\\\\n",
       "\\hline\n",
       "\t 0          & 181        & 45.25 \\% \\\\\n",
       "\t 1          & 219        & 54.75 \\% \\\\\n",
       "\\end{tabular}\n"
      ],
      "text/markdown": [
       "\n",
       "Research | freq | Percentage | \n",
       "|---|---|\n",
       "| 0        | 181      | 45.25 %  | \n",
       "| 1        | 219      | 54.75 %  | \n",
       "\n",
       "\n"
      ],
      "text/plain": [
       "  Research freq Percentage\n",
       "1 0        181  45.25 %   \n",
       "2 1        219  54.75 %   "
      ]
     },
     "metadata": {},
     "output_type": "display_data"
    }
   ],
   "source": [
    "dfResearch<-count(df, vars='Research')\n",
    "dfResearch$Percentage<-(dfResearch$freq/sum(dfResearch$freq))*100\n",
    "dfResearch$Percentage<- paste(as.character(dfResearch$Percentage), '%', '')\n",
    "dfResearch"
   ]
  },
  {
   "cell_type": "code",
   "execution_count": 41,
   "metadata": {
    "scrolled": false
   },
   "outputs": [
    {
     "data": {},
     "metadata": {},
     "output_type": "display_data"
    },
    {
     "data": {
      "image/png": "[encoded data removed]",
      "text/plain": [
       "plot without title"
      ]
     },
     "metadata": {},
     "output_type": "display_data"
    }
   ],
   "source": [
    "p<-ggplot(data=dfResearch, aes(x=Research, y=freq, color=Research)) +geom_bar(stat=\"identity\", fill=\"white\")+\n",
    "geom_text(aes(label=freq), vjust=1.6,position = position_dodge(0.9), size=3.0)\n",
    "p"
   ]
  },
  {
   "cell_type": "markdown",
   "metadata": {},
   "source": [
    "Most of the students have research experience. "
   ]
  },
  {
   "cell_type": "code",
   "execution_count": 42,
   "metadata": {},
   "outputs": [
    {
     "data": {
      "text/html": [
       "<table>\n",
       "<thead><tr><th scope=col>LOR</th><th scope=col>freq</th><th scope=col>Percentage</th></tr></thead>\n",
       "<tbody>\n",
       "\t<tr><td>1.0     </td><td> 1      </td><td>0.25 %  </td></tr>\n",
       "\t<tr><td>1.5     </td><td> 7      </td><td>1.75 %  </td></tr>\n",
       "\t<tr><td>5.0     </td><td>35      </td><td>8.75 %  </td></tr>\n",
       "\t<tr><td>2.0     </td><td>38      </td><td>9.5 %   </td></tr>\n",
       "\t<tr><td>2.5     </td><td>39      </td><td>9.75 %  </td></tr>\n",
       "\t<tr><td>4.5     </td><td>45      </td><td>11.25 % </td></tr>\n",
       "\t<tr><td>3.5     </td><td>73      </td><td>18.25 % </td></tr>\n",
       "\t<tr><td>4.0     </td><td>77      </td><td>19.25 % </td></tr>\n",
       "\t<tr><td>3.0     </td><td>85      </td><td>21.25 % </td></tr>\n",
       "</tbody>\n",
       "</table>\n"
      ],
      "text/latex": [
       "\\begin{tabular}{r|lll}\n",
       " LOR & freq & Percentage\\\\\n",
       "\\hline\n",
       "\t 1.0        &  1         & 0.25 \\%  \\\\\n",
       "\t 1.5        &  7         & 1.75 \\%  \\\\\n",
       "\t 5.0        & 35         & 8.75 \\%  \\\\\n",
       "\t 2.0        & 38         & 9.5 \\%   \\\\\n",
       "\t 2.5        & 39         & 9.75 \\%  \\\\\n",
       "\t 4.5        & 45         & 11.25 \\% \\\\\n",
       "\t 3.5        & 73         & 18.25 \\% \\\\\n",
       "\t 4.0        & 77         & 19.25 \\% \\\\\n",
       "\t 3.0        & 85         & 21.25 \\% \\\\\n",
       "\\end{tabular}\n"
      ],
      "text/markdown": [
       "\n",
       "LOR | freq | Percentage | \n",
       "|---|---|---|---|---|---|---|---|---|\n",
       "| 1.0      |  1       | 0.25 %   | \n",
       "| 1.5      |  7       | 1.75 %   | \n",
       "| 5.0      | 35       | 8.75 %   | \n",
       "| 2.0      | 38       | 9.5 %    | \n",
       "| 2.5      | 39       | 9.75 %   | \n",
       "| 4.5      | 45       | 11.25 %  | \n",
       "| 3.5      | 73       | 18.25 %  | \n",
       "| 4.0      | 77       | 19.25 %  | \n",
       "| 3.0      | 85       | 21.25 %  | \n",
       "\n",
       "\n"
      ],
      "text/plain": [
       "  LOR freq Percentage\n",
       "1 1.0  1   0.25 %    \n",
       "2 1.5  7   1.75 %    \n",
       "3 5.0 35   8.75 %    \n",
       "4 2.0 38   9.5 %     \n",
       "5 2.5 39   9.75 %    \n",
       "6 4.5 45   11.25 %   \n",
       "7 3.5 73   18.25 %   \n",
       "8 4.0 77   19.25 %   \n",
       "9 3.0 85   21.25 %   "
      ]
     },
     "metadata": {},
     "output_type": "display_data"
    }
   ],
   "source": [
    "dfLOR<-count(df, vars='LOR')\n",
    "dfLOR<-dfLOR[order(dfLOR$freq),]\n",
    "dfLOR$Percentage<-(dfLOR$freq/sum(dfLOR$freq))*100\n",
    "dfLOR$Percentage<- paste(as.character(dfLOR$Percentage), '%', '')\n",
    "rownames(dfLOR)<-NULL\n",
    "dfLOR"
   ]
  },
  {
   "cell_type": "code",
   "execution_count": 43,
   "metadata": {},
   "outputs": [
    {
     "name": "stderr",
     "output_type": "stream",
     "text": [
      "Warning message:\n",
      "\"position_dodge requires non-overlapping x intervals\""
     ]
    },
    {
     "data": {},
     "metadata": {},
     "output_type": "display_data"
    },
    {
     "data": {
      "image/png": "[encoded data removed]",
      "text/plain": [
       "plot without title"
      ]
     },
     "metadata": {},
     "output_type": "display_data"
    }
   ],
   "source": [
    "p<-ggplot(data=dfLOR, aes(x=LOR, y=freq, color=LOR)) +geom_bar(stat=\"identity\", fill=\"white\")+\n",
    "geom_text(aes(label=freq), vjust=1.6,position = position_dodge(0.9), size=3.0)\n",
    "p"
   ]
  },
  {
   "cell_type": "markdown",
   "metadata": {},
   "source": [
    "Most students got a letter of recommendation score of 3 followed by 4 and 3.5.  Only 1 person got a score of 1. "
   ]
  },
  {
   "cell_type": "code",
   "execution_count": 44,
   "metadata": {},
   "outputs": [
    {
     "data": {
      "text/html": [
       "<table>\n",
       "<thead><tr><th scope=col>CGPA</th><th scope=col>freq</th><th scope=col>Percentage</th></tr></thead>\n",
       "<tbody>\n",
       "\t<tr><td>6.80   </td><td>1      </td><td>0.25 % </td></tr>\n",
       "\t<tr><td>7.20   </td><td>1      </td><td>0.25 % </td></tr>\n",
       "\t<tr><td>7.25   </td><td>1      </td><td>0.25 % </td></tr>\n",
       "\t<tr><td>7.28   </td><td>1      </td><td>0.25 % </td></tr>\n",
       "\t<tr><td>7.30   </td><td>1      </td><td>0.25 % </td></tr>\n",
       "\t<tr><td>7.36   </td><td>1      </td><td>0.25 % </td></tr>\n",
       "\t<tr><td>7.40   </td><td>1      </td><td>0.25 % </td></tr>\n",
       "\t<tr><td>7.54   </td><td>1      </td><td>0.25 % </td></tr>\n",
       "\t<tr><td>7.56   </td><td>1      </td><td>0.25 % </td></tr>\n",
       "\t<tr><td>7.60   </td><td>1      </td><td>0.25 % </td></tr>\n",
       "\t<tr><td>7.67   </td><td>1      </td><td>0.25 % </td></tr>\n",
       "\t<tr><td>7.68   </td><td>1      </td><td>0.25 % </td></tr>\n",
       "\t<tr><td>7.84   </td><td>1      </td><td>0.25 % </td></tr>\n",
       "\t<tr><td>7.87   </td><td>1      </td><td>0.25 % </td></tr>\n",
       "\t<tr><td>7.92   </td><td>1      </td><td>0.25 % </td></tr>\n",
       "\t<tr><td>7.95   </td><td>1      </td><td>0.25 % </td></tr>\n",
       "\t<tr><td>7.96   </td><td>1      </td><td>0.25 % </td></tr>\n",
       "\t<tr><td>7.97   </td><td>1      </td><td>0.25 % </td></tr>\n",
       "\t<tr><td>7.98   </td><td>1      </td><td>0.25 % </td></tr>\n",
       "\t<tr><td>8.06   </td><td>1      </td><td>0.25 % </td></tr>\n",
       "\t<tr><td>8.09   </td><td>1      </td><td>0.25 % </td></tr>\n",
       "\t<tr><td>8.15   </td><td>1      </td><td>0.25 % </td></tr>\n",
       "\t<tr><td>8.23   </td><td>1      </td><td>0.25 % </td></tr>\n",
       "\t<tr><td>8.25   </td><td>1      </td><td>0.25 % </td></tr>\n",
       "\t<tr><td>8.28   </td><td>1      </td><td>0.25 % </td></tr>\n",
       "\t<tr><td>8.49   </td><td>1      </td><td>0.25 % </td></tr>\n",
       "\t<tr><td>8.52   </td><td>1      </td><td>0.25 % </td></tr>\n",
       "\t<tr><td>8.55   </td><td>1      </td><td>0.25 % </td></tr>\n",
       "\t<tr><td>8.71   </td><td>1      </td><td>0.25 % </td></tr>\n",
       "\t<tr><td>8.72   </td><td>1      </td><td>0.25 % </td></tr>\n",
       "\t<tr><td>...</td><td>...</td><td>...</td></tr>\n",
       "\t<tr><td>7.89   </td><td>4      </td><td>1 %    </td></tr>\n",
       "\t<tr><td>7.90   </td><td>4      </td><td>1 %    </td></tr>\n",
       "\t<tr><td>8.10   </td><td>4      </td><td>1 %    </td></tr>\n",
       "\t<tr><td>8.26   </td><td>4      </td><td>1 %    </td></tr>\n",
       "\t<tr><td>8.30   </td><td>4      </td><td>1 %    </td></tr>\n",
       "\t<tr><td>8.33   </td><td>4      </td><td>1 %    </td></tr>\n",
       "\t<tr><td>8.34   </td><td>4      </td><td>1 %    </td></tr>\n",
       "\t<tr><td>8.40   </td><td>4      </td><td>1 %    </td></tr>\n",
       "\t<tr><td>8.66   </td><td>4      </td><td>1 %    </td></tr>\n",
       "\t<tr><td>8.79   </td><td>4      </td><td>1 %    </td></tr>\n",
       "\t<tr><td>9.23   </td><td>4      </td><td>1 %    </td></tr>\n",
       "\t<tr><td>9.36   </td><td>4      </td><td>1 %    </td></tr>\n",
       "\t<tr><td>9.45   </td><td>4      </td><td>1 %    </td></tr>\n",
       "\t<tr><td>8.12   </td><td>5      </td><td>1.25 % </td></tr>\n",
       "\t<tr><td>8.20   </td><td>5      </td><td>1.25 % </td></tr>\n",
       "\t<tr><td>8.27   </td><td>5      </td><td>1.25 % </td></tr>\n",
       "\t<tr><td>8.50   </td><td>5      </td><td>1.25 % </td></tr>\n",
       "\t<tr><td>8.54   </td><td>5      </td><td>1.25 % </td></tr>\n",
       "\t<tr><td>8.65   </td><td>5      </td><td>1.25 % </td></tr>\n",
       "\t<tr><td>8.67   </td><td>5      </td><td>1.25 % </td></tr>\n",
       "\t<tr><td>8.80   </td><td>5      </td><td>1.25 % </td></tr>\n",
       "\t<tr><td>9.00   </td><td>5      </td><td>1.25 % </td></tr>\n",
       "\t<tr><td>9.04   </td><td>5      </td><td>1.25 % </td></tr>\n",
       "\t<tr><td>9.10   </td><td>5      </td><td>1.25 % </td></tr>\n",
       "\t<tr><td>8.45   </td><td>6      </td><td>1.5 %  </td></tr>\n",
       "\t<tr><td>8.64   </td><td>6      </td><td>1.5 %  </td></tr>\n",
       "\t<tr><td>9.11   </td><td>6      </td><td>1.5 %  </td></tr>\n",
       "\t<tr><td>8.56   </td><td>7      </td><td>1.75 % </td></tr>\n",
       "\t<tr><td>8.76   </td><td>8      </td><td>2 %    </td></tr>\n",
       "\t<tr><td>8.00   </td><td>9      </td><td>2.25 % </td></tr>\n",
       "</tbody>\n",
       "</table>\n"
      ],
      "text/latex": [
       "\\begin{tabular}{r|lll}\n",
       " CGPA & freq & Percentage\\\\\n",
       "\\hline\n",
       "\t 6.80      & 1         & 0.25 \\% \\\\\n",
       "\t 7.20      & 1         & 0.25 \\% \\\\\n",
       "\t 7.25      & 1         & 0.25 \\% \\\\\n",
       "\t 7.28      & 1         & 0.25 \\% \\\\\n",
       "\t 7.30      & 1         & 0.25 \\% \\\\\n",
       "\t 7.36      & 1         & 0.25 \\% \\\\\n",
       "\t 7.40      & 1         & 0.25 \\% \\\\\n",
       "\t 7.54      & 1         & 0.25 \\% \\\\\n",
       "\t 7.56      & 1         & 0.25 \\% \\\\\n",
       "\t 7.60      & 1         & 0.25 \\% \\\\\n",
       "\t 7.67      & 1         & 0.25 \\% \\\\\n",
       "\t 7.68      & 1         & 0.25 \\% \\\\\n",
       "\t 7.84      & 1         & 0.25 \\% \\\\\n",
       "\t 7.87      & 1         & 0.25 \\% \\\\\n",
       "\t 7.92      & 1         & 0.25 \\% \\\\\n",
       "\t 7.95      & 1         & 0.25 \\% \\\\\n",
       "\t 7.96      & 1         & 0.25 \\% \\\\\n",
       "\t 7.97      & 1         & 0.25 \\% \\\\\n",
       "\t 7.98      & 1         & 0.25 \\% \\\\\n",
       "\t 8.06      & 1         & 0.25 \\% \\\\\n",
       "\t 8.09      & 1         & 0.25 \\% \\\\\n",
       "\t 8.15      & 1         & 0.25 \\% \\\\\n",
       "\t 8.23      & 1         & 0.25 \\% \\\\\n",
       "\t 8.25      & 1         & 0.25 \\% \\\\\n",
       "\t 8.28      & 1         & 0.25 \\% \\\\\n",
       "\t 8.49      & 1         & 0.25 \\% \\\\\n",
       "\t 8.52      & 1         & 0.25 \\% \\\\\n",
       "\t 8.55      & 1         & 0.25 \\% \\\\\n",
       "\t 8.71      & 1         & 0.25 \\% \\\\\n",
       "\t 8.72      & 1         & 0.25 \\% \\\\\n",
       "\t ... & ... & ...\\\\\n",
       "\t 7.89      & 4         & 1 \\%    \\\\\n",
       "\t 7.90      & 4         & 1 \\%    \\\\\n",
       "\t 8.10      & 4         & 1 \\%    \\\\\n",
       "\t 8.26      & 4         & 1 \\%    \\\\\n",
       "\t 8.30      & 4         & 1 \\%    \\\\\n",
       "\t 8.33      & 4         & 1 \\%    \\\\\n",
       "\t 8.34      & 4         & 1 \\%    \\\\\n",
       "\t 8.40      & 4         & 1 \\%    \\\\\n",
       "\t 8.66      & 4         & 1 \\%    \\\\\n",
       "\t 8.79      & 4         & 1 \\%    \\\\\n",
       "\t 9.23      & 4         & 1 \\%    \\\\\n",
       "\t 9.36      & 4         & 1 \\%    \\\\\n",
       "\t 9.45      & 4         & 1 \\%    \\\\\n",
       "\t 8.12      & 5         & 1.25 \\% \\\\\n",
       "\t 8.20      & 5         & 1.25 \\% \\\\\n",
       "\t 8.27      & 5         & 1.25 \\% \\\\\n",
       "\t 8.50      & 5         & 1.25 \\% \\\\\n",
       "\t 8.54      & 5         & 1.25 \\% \\\\\n",
       "\t 8.65      & 5         & 1.25 \\% \\\\\n",
       "\t 8.67      & 5         & 1.25 \\% \\\\\n",
       "\t 8.80      & 5         & 1.25 \\% \\\\\n",
       "\t 9.00      & 5         & 1.25 \\% \\\\\n",
       "\t 9.04      & 5         & 1.25 \\% \\\\\n",
       "\t 9.10      & 5         & 1.25 \\% \\\\\n",
       "\t 8.45      & 6         & 1.5 \\%  \\\\\n",
       "\t 8.64      & 6         & 1.5 \\%  \\\\\n",
       "\t 9.11      & 6         & 1.5 \\%  \\\\\n",
       "\t 8.56      & 7         & 1.75 \\% \\\\\n",
       "\t 8.76      & 8         & 2 \\%    \\\\\n",
       "\t 8.00      & 9         & 2.25 \\% \\\\\n",
       "\\end{tabular}\n"
      ],
      "text/markdown": [
       "\n",
       "CGPA | freq | Percentage | \n",
       "|---|---|---|---|---|---|---|---|---|---|---|---|---|---|---|---|---|---|---|---|---|---|---|---|---|---|---|---|---|---|---|---|---|---|---|---|---|---|---|---|---|---|---|---|---|---|---|---|---|---|---|---|---|---|---|---|---|---|---|---|---|\n",
       "| 6.80    | 1       | 0.25 %  | \n",
       "| 7.20    | 1       | 0.25 %  | \n",
       "| 7.25    | 1       | 0.25 %  | \n",
       "| 7.28    | 1       | 0.25 %  | \n",
       "| 7.30    | 1       | 0.25 %  | \n",
       "| 7.36    | 1       | 0.25 %  | \n",
       "| 7.40    | 1       | 0.25 %  | \n",
       "| 7.54    | 1       | 0.25 %  | \n",
       "| 7.56    | 1       | 0.25 %  | \n",
       "| 7.60    | 1       | 0.25 %  | \n",
       "| 7.67    | 1       | 0.25 %  | \n",
       "| 7.68    | 1       | 0.25 %  | \n",
       "| 7.84    | 1       | 0.25 %  | \n",
       "| 7.87    | 1       | 0.25 %  | \n",
       "| 7.92    | 1       | 0.25 %  | \n",
       "| 7.95    | 1       | 0.25 %  | \n",
       "| 7.96    | 1       | 0.25 %  | \n",
       "| 7.97    | 1       | 0.25 %  | \n",
       "| 7.98    | 1       | 0.25 %  | \n",
       "| 8.06    | 1       | 0.25 %  | \n",
       "| 8.09    | 1       | 0.25 %  | \n",
       "| 8.15    | 1       | 0.25 %  | \n",
       "| 8.23    | 1       | 0.25 %  | \n",
       "| 8.25    | 1       | 0.25 %  | \n",
       "| 8.28    | 1       | 0.25 %  | \n",
       "| 8.49    | 1       | 0.25 %  | \n",
       "| 8.52    | 1       | 0.25 %  | \n",
       "| 8.55    | 1       | 0.25 %  | \n",
       "| 8.71    | 1       | 0.25 %  | \n",
       "| 8.72    | 1       | 0.25 %  | \n",
       "| ... | ... | ... | \n",
       "| 7.89    | 4       | 1 %     | \n",
       "| 7.90    | 4       | 1 %     | \n",
       "| 8.10    | 4       | 1 %     | \n",
       "| 8.26    | 4       | 1 %     | \n",
       "| 8.30    | 4       | 1 %     | \n",
       "| 8.33    | 4       | 1 %     | \n",
       "| 8.34    | 4       | 1 %     | \n",
       "| 8.40    | 4       | 1 %     | \n",
       "| 8.66    | 4       | 1 %     | \n",
       "| 8.79    | 4       | 1 %     | \n",
       "| 9.23    | 4       | 1 %     | \n",
       "| 9.36    | 4       | 1 %     | \n",
       "| 9.45    | 4       | 1 %     | \n",
       "| 8.12    | 5       | 1.25 %  | \n",
       "| 8.20    | 5       | 1.25 %  | \n",
       "| 8.27    | 5       | 1.25 %  | \n",
       "| 8.50    | 5       | 1.25 %  | \n",
       "| 8.54    | 5       | 1.25 %  | \n",
       "| 8.65    | 5       | 1.25 %  | \n",
       "| 8.67    | 5       | 1.25 %  | \n",
       "| 8.80    | 5       | 1.25 %  | \n",
       "| 9.00    | 5       | 1.25 %  | \n",
       "| 9.04    | 5       | 1.25 %  | \n",
       "| 9.10    | 5       | 1.25 %  | \n",
       "| 8.45    | 6       | 1.5 %   | \n",
       "| 8.64    | 6       | 1.5 %   | \n",
       "| 9.11    | 6       | 1.5 %   | \n",
       "| 8.56    | 7       | 1.75 %  | \n",
       "| 8.76    | 8       | 2 %     | \n",
       "| 8.00    | 9       | 2.25 %  | \n",
       "\n",
       "\n"
      ],
      "text/plain": [
       "    CGPA freq Percentage\n",
       "1   6.80 1    0.25 %    \n",
       "2   7.20 1    0.25 %    \n",
       "3   7.25 1    0.25 %    \n",
       "4   7.28 1    0.25 %    \n",
       "5   7.30 1    0.25 %    \n",
       "6   7.36 1    0.25 %    \n",
       "7   7.40 1    0.25 %    \n",
       "8   7.54 1    0.25 %    \n",
       "9   7.56 1    0.25 %    \n",
       "10  7.60 1    0.25 %    \n",
       "11  7.67 1    0.25 %    \n",
       "12  7.68 1    0.25 %    \n",
       "13  7.84 1    0.25 %    \n",
       "14  7.87 1    0.25 %    \n",
       "15  7.92 1    0.25 %    \n",
       "16  7.95 1    0.25 %    \n",
       "17  7.96 1    0.25 %    \n",
       "18  7.97 1    0.25 %    \n",
       "19  7.98 1    0.25 %    \n",
       "20  8.06 1    0.25 %    \n",
       "21  8.09 1    0.25 %    \n",
       "22  8.15 1    0.25 %    \n",
       "23  8.23 1    0.25 %    \n",
       "24  8.25 1    0.25 %    \n",
       "25  8.28 1    0.25 %    \n",
       "26  8.49 1    0.25 %    \n",
       "27  8.52 1    0.25 %    \n",
       "28  8.55 1    0.25 %    \n",
       "29  8.71 1    0.25 %    \n",
       "30  8.72 1    0.25 %    \n",
       "... ...  ...  ...       \n",
       "139 7.89 4    1 %       \n",
       "140 7.90 4    1 %       \n",
       "141 8.10 4    1 %       \n",
       "142 8.26 4    1 %       \n",
       "143 8.30 4    1 %       \n",
       "144 8.33 4    1 %       \n",
       "145 8.34 4    1 %       \n",
       "146 8.40 4    1 %       \n",
       "147 8.66 4    1 %       \n",
       "148 8.79 4    1 %       \n",
       "149 9.23 4    1 %       \n",
       "150 9.36 4    1 %       \n",
       "151 9.45 4    1 %       \n",
       "152 8.12 5    1.25 %    \n",
       "153 8.20 5    1.25 %    \n",
       "154 8.27 5    1.25 %    \n",
       "155 8.50 5    1.25 %    \n",
       "156 8.54 5    1.25 %    \n",
       "157 8.65 5    1.25 %    \n",
       "158 8.67 5    1.25 %    \n",
       "159 8.80 5    1.25 %    \n",
       "160 9.00 5    1.25 %    \n",
       "161 9.04 5    1.25 %    \n",
       "162 9.10 5    1.25 %    \n",
       "163 8.45 6    1.5 %     \n",
       "164 8.64 6    1.5 %     \n",
       "165 9.11 6    1.5 %     \n",
       "166 8.56 7    1.75 %    \n",
       "167 8.76 8    2 %       \n",
       "168 8.00 9    2.25 %    "
      ]
     },
     "metadata": {},
     "output_type": "display_data"
    }
   ],
   "source": [
    "dfGPA<-count(df, vars='CGPA')\n",
    "dfGPA<-dfGPA[order(dfGPA$freq),]\n",
    "dfGPA$Percentage<-(dfGPA$freq/sum(dfGPA$freq))*100\n",
    "dfGPA$Percentage<- paste(as.character(dfGPA$Percentage), '%', '')\n",
    "rownames(dfGPA)<-NULL\n",
    "dfGPA"
   ]
  },
  {
   "cell_type": "code",
   "execution_count": 45,
   "metadata": {},
   "outputs": [
    {
     "data": {
      "text/html": [
       "<table>\n",
       "<thead><tr><th scope=col>Chance.of.Admit</th><th scope=col>freq</th><th scope=col>Percentage</th></tr></thead>\n",
       "<tbody>\n",
       "\t<tr><td>0.39   </td><td> 1     </td><td>0.25 % </td></tr>\n",
       "\t<tr><td>0.43   </td><td> 1     </td><td>0.25 % </td></tr>\n",
       "\t<tr><td>0.51   </td><td> 1     </td><td>0.25 % </td></tr>\n",
       "\t<tr><td>0.55   </td><td> 1     </td><td>0.25 % </td></tr>\n",
       "\t<tr><td>0.60   </td><td> 1     </td><td>0.25 % </td></tr>\n",
       "\t<tr><td>0.34   </td><td> 2     </td><td>0.5 %  </td></tr>\n",
       "\t<tr><td>0.36   </td><td> 2     </td><td>0.5 %  </td></tr>\n",
       "\t<tr><td>0.38   </td><td> 2     </td><td>0.5 %  </td></tr>\n",
       "\t<tr><td>0.45   </td><td> 2     </td><td>0.5 %  </td></tr>\n",
       "\t<tr><td>0.50   </td><td> 2     </td><td>0.5 %  </td></tr>\n",
       "\t<tr><td>0.42   </td><td> 3     </td><td>0.75 % </td></tr>\n",
       "\t<tr><td>0.44   </td><td> 3     </td><td>0.75 % </td></tr>\n",
       "\t<tr><td>0.48   </td><td> 3     </td><td>0.75 % </td></tr>\n",
       "\t<tr><td>0.53   </td><td> 3     </td><td>0.75 % </td></tr>\n",
       "\t<tr><td>0.83   </td><td> 3     </td><td>0.75 % </td></tr>\n",
       "\t<tr><td>0.49   </td><td> 4     </td><td>1 %    </td></tr>\n",
       "\t<tr><td>0.59   </td><td> 4     </td><td>1 %    </td></tr>\n",
       "\t<tr><td>0.88   </td><td> 4     </td><td>1 %    </td></tr>\n",
       "\t<tr><td>0.95   </td><td> 4     </td><td>1 %    </td></tr>\n",
       "\t<tr><td>0.97   </td><td> 4     </td><td>1 %    </td></tr>\n",
       "\t<tr><td>0.46   </td><td> 5     </td><td>1.25 % </td></tr>\n",
       "\t<tr><td>0.47   </td><td> 5     </td><td>1.25 % </td></tr>\n",
       "\t<tr><td>0.52   </td><td> 5     </td><td>1.25 % </td></tr>\n",
       "\t<tr><td>0.54   </td><td> 5     </td><td>1.25 % </td></tr>\n",
       "\t<tr><td>0.58   </td><td> 5     </td><td>1.25 % </td></tr>\n",
       "\t<tr><td>0.87   </td><td> 5     </td><td>1.25 % </td></tr>\n",
       "\t<tr><td>0.56   </td><td> 6     </td><td>1.5 %  </td></tr>\n",
       "\t<tr><td>0.63   </td><td> 6     </td><td>1.5 %  </td></tr>\n",
       "\t<tr><td>0.85   </td><td> 6     </td><td>1.5 %  </td></tr>\n",
       "\t<tr><td>0.92   </td><td> 6     </td><td>1.5 %  </td></tr>\n",
       "\t<tr><td>0.61   </td><td> 7     </td><td>1.75 % </td></tr>\n",
       "\t<tr><td>0.66   </td><td> 7     </td><td>1.75 % </td></tr>\n",
       "\t<tr><td>0.67   </td><td> 7     </td><td>1.75 % </td></tr>\n",
       "\t<tr><td>0.69   </td><td> 7     </td><td>1.75 % </td></tr>\n",
       "\t<tr><td>0.91   </td><td> 7     </td><td>1.75 % </td></tr>\n",
       "\t<tr><td>0.96   </td><td> 7     </td><td>1.75 % </td></tr>\n",
       "\t<tr><td>0.57   </td><td> 8     </td><td>2 %    </td></tr>\n",
       "\t<tr><td>0.75   </td><td> 8     </td><td>2 %    </td></tr>\n",
       "\t<tr><td>0.77   </td><td> 8     </td><td>2 %    </td></tr>\n",
       "\t<tr><td>0.81   </td><td> 8     </td><td>2 %    </td></tr>\n",
       "\t<tr><td>0.82   </td><td> 8     </td><td>2 %    </td></tr>\n",
       "\t<tr><td>0.86   </td><td> 8     </td><td>2 %    </td></tr>\n",
       "\t<tr><td>0.90   </td><td> 8     </td><td>2 %    </td></tr>\n",
       "\t<tr><td>0.62   </td><td> 9     </td><td>2.25 % </td></tr>\n",
       "\t<tr><td>0.65   </td><td> 9     </td><td>2.25 % </td></tr>\n",
       "\t<tr><td>0.84   </td><td> 9     </td><td>2.25 % </td></tr>\n",
       "\t<tr><td>0.89   </td><td> 9     </td><td>2.25 % </td></tr>\n",
       "\t<tr><td>0.93   </td><td> 9     </td><td>2.25 % </td></tr>\n",
       "\t<tr><td>0.68   </td><td>10     </td><td>2.5 %  </td></tr>\n",
       "\t<tr><td>0.74   </td><td>11     </td><td>2.75 % </td></tr>\n",
       "\t<tr><td>0.80   </td><td>11     </td><td>2.75 % </td></tr>\n",
       "\t<tr><td>0.70   </td><td>12     </td><td>3 %    </td></tr>\n",
       "\t<tr><td>0.76   </td><td>12     </td><td>3 %    </td></tr>\n",
       "\t<tr><td>0.78   </td><td>12     </td><td>3 %    </td></tr>\n",
       "\t<tr><td>0.79   </td><td>12     </td><td>3 %    </td></tr>\n",
       "\t<tr><td>0.94   </td><td>12     </td><td>3 %    </td></tr>\n",
       "\t<tr><td>0.73   </td><td>13     </td><td>3.25 % </td></tr>\n",
       "\t<tr><td>0.72   </td><td>15     </td><td>3.75 % </td></tr>\n",
       "\t<tr><td>0.71   </td><td>16     </td><td>4 %    </td></tr>\n",
       "\t<tr><td>0.64   </td><td>17     </td><td>4.25 % </td></tr>\n",
       "</tbody>\n",
       "</table>\n"
      ],
      "text/latex": [
       "\\begin{tabular}{r|lll}\n",
       " Chance.of.Admit & freq & Percentage\\\\\n",
       "\\hline\n",
       "\t 0.39      &  1        & 0.25 \\% \\\\\n",
       "\t 0.43      &  1        & 0.25 \\% \\\\\n",
       "\t 0.51      &  1        & 0.25 \\% \\\\\n",
       "\t 0.55      &  1        & 0.25 \\% \\\\\n",
       "\t 0.60      &  1        & 0.25 \\% \\\\\n",
       "\t 0.34      &  2        & 0.5 \\%  \\\\\n",
       "\t 0.36      &  2        & 0.5 \\%  \\\\\n",
       "\t 0.38      &  2        & 0.5 \\%  \\\\\n",
       "\t 0.45      &  2        & 0.5 \\%  \\\\\n",
       "\t 0.50      &  2        & 0.5 \\%  \\\\\n",
       "\t 0.42      &  3        & 0.75 \\% \\\\\n",
       "\t 0.44      &  3        & 0.75 \\% \\\\\n",
       "\t 0.48      &  3        & 0.75 \\% \\\\\n",
       "\t 0.53      &  3        & 0.75 \\% \\\\\n",
       "\t 0.83      &  3        & 0.75 \\% \\\\\n",
       "\t 0.49      &  4        & 1 \\%    \\\\\n",
       "\t 0.59      &  4        & 1 \\%    \\\\\n",
       "\t 0.88      &  4        & 1 \\%    \\\\\n",
       "\t 0.95      &  4        & 1 \\%    \\\\\n",
       "\t 0.97      &  4        & 1 \\%    \\\\\n",
       "\t 0.46      &  5        & 1.25 \\% \\\\\n",
       "\t 0.47      &  5        & 1.25 \\% \\\\\n",
       "\t 0.52      &  5        & 1.25 \\% \\\\\n",
       "\t 0.54      &  5        & 1.25 \\% \\\\\n",
       "\t 0.58      &  5        & 1.25 \\% \\\\\n",
       "\t 0.87      &  5        & 1.25 \\% \\\\\n",
       "\t 0.56      &  6        & 1.5 \\%  \\\\\n",
       "\t 0.63      &  6        & 1.5 \\%  \\\\\n",
       "\t 0.85      &  6        & 1.5 \\%  \\\\\n",
       "\t 0.92      &  6        & 1.5 \\%  \\\\\n",
       "\t 0.61      &  7        & 1.75 \\% \\\\\n",
       "\t 0.66      &  7        & 1.75 \\% \\\\\n",
       "\t 0.67      &  7        & 1.75 \\% \\\\\n",
       "\t 0.69      &  7        & 1.75 \\% \\\\\n",
       "\t 0.91      &  7        & 1.75 \\% \\\\\n",
       "\t 0.96      &  7        & 1.75 \\% \\\\\n",
       "\t 0.57      &  8        & 2 \\%    \\\\\n",
       "\t 0.75      &  8        & 2 \\%    \\\\\n",
       "\t 0.77      &  8        & 2 \\%    \\\\\n",
       "\t 0.81      &  8        & 2 \\%    \\\\\n",
       "\t 0.82      &  8        & 2 \\%    \\\\\n",
       "\t 0.86      &  8        & 2 \\%    \\\\\n",
       "\t 0.90      &  8        & 2 \\%    \\\\\n",
       "\t 0.62      &  9        & 2.25 \\% \\\\\n",
       "\t 0.65      &  9        & 2.25 \\% \\\\\n",
       "\t 0.84      &  9        & 2.25 \\% \\\\\n",
       "\t 0.89      &  9        & 2.25 \\% \\\\\n",
       "\t 0.93      &  9        & 2.25 \\% \\\\\n",
       "\t 0.68      & 10        & 2.5 \\%  \\\\\n",
       "\t 0.74      & 11        & 2.75 \\% \\\\\n",
       "\t 0.80      & 11        & 2.75 \\% \\\\\n",
       "\t 0.70      & 12        & 3 \\%    \\\\\n",
       "\t 0.76      & 12        & 3 \\%    \\\\\n",
       "\t 0.78      & 12        & 3 \\%    \\\\\n",
       "\t 0.79      & 12        & 3 \\%    \\\\\n",
       "\t 0.94      & 12        & 3 \\%    \\\\\n",
       "\t 0.73      & 13        & 3.25 \\% \\\\\n",
       "\t 0.72      & 15        & 3.75 \\% \\\\\n",
       "\t 0.71      & 16        & 4 \\%    \\\\\n",
       "\t 0.64      & 17        & 4.25 \\% \\\\\n",
       "\\end{tabular}\n"
      ],
      "text/markdown": [
       "\n",
       "Chance.of.Admit | freq | Percentage | \n",
       "|---|---|---|---|---|---|---|---|---|---|---|---|---|---|---|---|---|---|---|---|---|---|---|---|---|---|---|---|---|---|---|---|---|---|---|---|---|---|---|---|---|---|---|---|---|---|---|---|---|---|---|---|---|---|---|---|---|---|---|---|\n",
       "| 0.39    |  1      | 0.25 %  | \n",
       "| 0.43    |  1      | 0.25 %  | \n",
       "| 0.51    |  1      | 0.25 %  | \n",
       "| 0.55    |  1      | 0.25 %  | \n",
       "| 0.60    |  1      | 0.25 %  | \n",
       "| 0.34    |  2      | 0.5 %   | \n",
       "| 0.36    |  2      | 0.5 %   | \n",
       "| 0.38    |  2      | 0.5 %   | \n",
       "| 0.45    |  2      | 0.5 %   | \n",
       "| 0.50    |  2      | 0.5 %   | \n",
       "| 0.42    |  3      | 0.75 %  | \n",
       "| 0.44    |  3      | 0.75 %  | \n",
       "| 0.48    |  3      | 0.75 %  | \n",
       "| 0.53    |  3      | 0.75 %  | \n",
       "| 0.83    |  3      | 0.75 %  | \n",
       "| 0.49    |  4      | 1 %     | \n",
       "| 0.59    |  4      | 1 %     | \n",
       "| 0.88    |  4      | 1 %     | \n",
       "| 0.95    |  4      | 1 %     | \n",
       "| 0.97    |  4      | 1 %     | \n",
       "| 0.46    |  5      | 1.25 %  | \n",
       "| 0.47    |  5      | 1.25 %  | \n",
       "| 0.52    |  5      | 1.25 %  | \n",
       "| 0.54    |  5      | 1.25 %  | \n",
       "| 0.58    |  5      | 1.25 %  | \n",
       "| 0.87    |  5      | 1.25 %  | \n",
       "| 0.56    |  6      | 1.5 %   | \n",
       "| 0.63    |  6      | 1.5 %   | \n",
       "| 0.85    |  6      | 1.5 %   | \n",
       "| 0.92    |  6      | 1.5 %   | \n",
       "| 0.61    |  7      | 1.75 %  | \n",
       "| 0.66    |  7      | 1.75 %  | \n",
       "| 0.67    |  7      | 1.75 %  | \n",
       "| 0.69    |  7      | 1.75 %  | \n",
       "| 0.91    |  7      | 1.75 %  | \n",
       "| 0.96    |  7      | 1.75 %  | \n",
       "| 0.57    |  8      | 2 %     | \n",
       "| 0.75    |  8      | 2 %     | \n",
       "| 0.77    |  8      | 2 %     | \n",
       "| 0.81    |  8      | 2 %     | \n",
       "| 0.82    |  8      | 2 %     | \n",
       "| 0.86    |  8      | 2 %     | \n",
       "| 0.90    |  8      | 2 %     | \n",
       "| 0.62    |  9      | 2.25 %  | \n",
       "| 0.65    |  9      | 2.25 %  | \n",
       "| 0.84    |  9      | 2.25 %  | \n",
       "| 0.89    |  9      | 2.25 %  | \n",
       "| 0.93    |  9      | 2.25 %  | \n",
       "| 0.68    | 10      | 2.5 %   | \n",
       "| 0.74    | 11      | 2.75 %  | \n",
       "| 0.80    | 11      | 2.75 %  | \n",
       "| 0.70    | 12      | 3 %     | \n",
       "| 0.76    | 12      | 3 %     | \n",
       "| 0.78    | 12      | 3 %     | \n",
       "| 0.79    | 12      | 3 %     | \n",
       "| 0.94    | 12      | 3 %     | \n",
       "| 0.73    | 13      | 3.25 %  | \n",
       "| 0.72    | 15      | 3.75 %  | \n",
       "| 0.71    | 16      | 4 %     | \n",
       "| 0.64    | 17      | 4.25 %  | \n",
       "\n",
       "\n"
      ],
      "text/plain": [
       "   Chance.of.Admit freq Percentage\n",
       "1  0.39             1   0.25 %    \n",
       "2  0.43             1   0.25 %    \n",
       "3  0.51             1   0.25 %    \n",
       "4  0.55             1   0.25 %    \n",
       "5  0.60             1   0.25 %    \n",
       "6  0.34             2   0.5 %     \n",
       "7  0.36             2   0.5 %     \n",
       "8  0.38             2   0.5 %     \n",
       "9  0.45             2   0.5 %     \n",
       "10 0.50             2   0.5 %     \n",
       "11 0.42             3   0.75 %    \n",
       "12 0.44             3   0.75 %    \n",
       "13 0.48             3   0.75 %    \n",
       "14 0.53             3   0.75 %    \n",
       "15 0.83             3   0.75 %    \n",
       "16 0.49             4   1 %       \n",
       "17 0.59             4   1 %       \n",
       "18 0.88             4   1 %       \n",
       "19 0.95             4   1 %       \n",
       "20 0.97             4   1 %       \n",
       "21 0.46             5   1.25 %    \n",
       "22 0.47             5   1.25 %    \n",
       "23 0.52             5   1.25 %    \n",
       "24 0.54             5   1.25 %    \n",
       "25 0.58             5   1.25 %    \n",
       "26 0.87             5   1.25 %    \n",
       "27 0.56             6   1.5 %     \n",
       "28 0.63             6   1.5 %     \n",
       "29 0.85             6   1.5 %     \n",
       "30 0.92             6   1.5 %     \n",
       "31 0.61             7   1.75 %    \n",
       "32 0.66             7   1.75 %    \n",
       "33 0.67             7   1.75 %    \n",
       "34 0.69             7   1.75 %    \n",
       "35 0.91             7   1.75 %    \n",
       "36 0.96             7   1.75 %    \n",
       "37 0.57             8   2 %       \n",
       "38 0.75             8   2 %       \n",
       "39 0.77             8   2 %       \n",
       "40 0.81             8   2 %       \n",
       "41 0.82             8   2 %       \n",
       "42 0.86             8   2 %       \n",
       "43 0.90             8   2 %       \n",
       "44 0.62             9   2.25 %    \n",
       "45 0.65             9   2.25 %    \n",
       "46 0.84             9   2.25 %    \n",
       "47 0.89             9   2.25 %    \n",
       "48 0.93             9   2.25 %    \n",
       "49 0.68            10   2.5 %     \n",
       "50 0.74            11   2.75 %    \n",
       "51 0.80            11   2.75 %    \n",
       "52 0.70            12   3 %       \n",
       "53 0.76            12   3 %       \n",
       "54 0.78            12   3 %       \n",
       "55 0.79            12   3 %       \n",
       "56 0.94            12   3 %       \n",
       "57 0.73            13   3.25 %    \n",
       "58 0.72            15   3.75 %    \n",
       "59 0.71            16   4 %       \n",
       "60 0.64            17   4.25 %    "
      ]
     },
     "metadata": {},
     "output_type": "display_data"
    }
   ],
   "source": [
    "dfAdmit<-count(df, vars='Chance.of.Admit')\n",
    "dfAdmit<-dfAdmit[order(dfAdmit$freq),]\n",
    "dfAdmit$Percentage<-(dfAdmit$freq/sum(dfAdmit$freq))*100\n",
    "dfAdmit$Percentage<- paste(as.character(dfAdmit$Percentage), '%', '')\n",
    "rownames(dfAdmit)<-NULL\n",
    "dfAdmit"
   ]
  },
  {
   "cell_type": "code",
   "execution_count": 46,
   "metadata": {},
   "outputs": [
    {
     "data": {
      "image/png": "[encoded data removed]",
      "text/plain": [
       "Plot with title \"GRE Scores and Chance of Admission\""
      ]
     },
     "metadata": {},
     "output_type": "display_data"
    }
   ],
   "source": [
    "plot(df$GRE.Score, df$Chance.of.Admit, main=\"GRE Scores and Chance of Admission\", \n",
    "   xlab=\"GRE Score\", ylab=\"Chance of Admission\", pch=19)"
   ]
  },
  {
   "cell_type": "markdown",
   "metadata": {},
   "source": [
    "There seems to be a positive correlation between a higher GRE score and chance of admission. "
   ]
  },
  {
   "cell_type": "code",
   "execution_count": 47,
   "metadata": {},
   "outputs": [
    {
     "data": {
      "image/png": "[encoded data removed]",
      "text/plain": [
       "Plot with title \"TOEFL and Chance of Admission\""
      ]
     },
     "metadata": {},
     "output_type": "display_data"
    }
   ],
   "source": [
    "plot(df$TOEFL, df$Chance.of.Admit, main=\"TOEFL and Chance of Admission\", \n",
    "   xlab=\"TOEFL Score\", ylab=\"Chance of Admission\", pch=19)"
   ]
  },
  {
   "cell_type": "markdown",
   "metadata": {},
   "source": [
    "There seems to be a positive correlation between a higher TOEFL score and chance of admission. "
   ]
  },
  {
   "cell_type": "code",
   "execution_count": 48,
   "metadata": {},
   "outputs": [
    {
     "data": {
      "image/png": "[encoded data removed]",
      "text/plain": [
       "Plot with title \"Cumulative GPA and Chance of Admission\""
      ]
     },
     "metadata": {},
     "output_type": "display_data"
    }
   ],
   "source": [
    "plot(df$CGPA, df$Chance.of.Admit, main=\"Cumulative GPA and Chance of Admission\", \n",
    "   xlab=\"Cumulative GPA\", ylab=\"Chance of Admission\", pch=19)"
   ]
  },
  {
   "cell_type": "markdown",
   "metadata": {},
   "source": [
    "There seems to be a positive correlation between a higher GPA score and chance of admission. "
   ]
  },
  {
   "cell_type": "code",
   "execution_count": 49,
   "metadata": {},
   "outputs": [
    {
     "data": {
      "image/png": "[encoded data removed]",
      "text/plain": [
       "Plot with title \"Letter of Recommendation Score and Chance of Admission\""
      ]
     },
     "metadata": {},
     "output_type": "display_data"
    }
   ],
   "source": [
    "plot(df$LOR, df$Chance.of.Admit, main=\"Letter of Recommendation Score and Chance of Admission\", \n",
    "   xlab=\"Letter of Recommendation Score\", ylab=\"Chance of Admission\", pch=19)"
   ]
  },
  {
   "cell_type": "markdown",
   "metadata": {},
   "source": [
    "The letter of recommendation score alone doesn't seem to matter that much in being admitted.  "
   ]
  },
  {
   "cell_type": "code",
   "execution_count": 50,
   "metadata": {},
   "outputs": [
    {
     "data": {
      "image/png": "[encoded data removed]",
      "text/plain": [
       "Plot with title \"Research Experience and Chance of Admission\""
      ]
     },
     "metadata": {},
     "output_type": "display_data"
    }
   ],
   "source": [
    "plot(df$Research, df$Chance.of.Admit, main=\"Research Experience and Chance of Admission\", \n",
    "   xlab=\"Research Experience\", ylab=\"Chance of Admission\", pch=19)"
   ]
  },
  {
   "cell_type": "markdown",
   "metadata": {},
   "source": [
    "Students with research experience seem to have a slightly higher chance of being admitted but doesn't alone seem to help.  "
   ]
  },
  {
   "cell_type": "code",
   "execution_count": 51,
   "metadata": {},
   "outputs": [
    {
     "data": {
      "image/png": "[encoded data removed]",
      "text/plain": [
       "Plot with title \"Statement of Purpose and Chance of Admission\""
      ]
     },
     "metadata": {},
     "output_type": "display_data"
    }
   ],
   "source": [
    "plot(df$SOP, df$Chance.of.Admit, main=\"Statement of Purpose and Chance of Admission\", \n",
    "   xlab=\"Statement of Purpose Score\", ylab=\"Chance of Admission\", pch=19)"
   ]
  },
  {
   "cell_type": "markdown",
   "metadata": {},
   "source": [
    "The statment of purpose does not seem to alone help with being admitted."
   ]
  },
  {
   "cell_type": "code",
   "execution_count": 52,
   "metadata": {},
   "outputs": [
    {
     "data": {
      "image/png": "[encoded data removed]",
      "text/plain": [
       "Plot with title \"University Ratings and Chance of Admission\""
      ]
     },
     "metadata": {},
     "output_type": "display_data"
    }
   ],
   "source": [
    "boxplot(df$Chance.of.Admit~df$University.Rating,data=df, main=\"University Ratings and Chance of Admission\", \n",
    "   xlab=\"University Rating\", ylab=\"Chance of Admission\" , pch=19)"
   ]
  },
  {
   "cell_type": "markdown",
   "metadata": {},
   "source": [
    "As expected, the higher the university rating the harder it is to be admitted."
   ]
  },
  {
   "cell_type": "markdown",
   "metadata": {},
   "source": [
    "logistic regression, random forest, gradient boosting, ensemble model"
   ]
  },
  {
   "cell_type": "markdown",
   "metadata": {},
   "source": [
    "<h3> II. Modeling </h3>"
   ]
  },
  {
   "cell_type": "markdown",
   "metadata": {},
   "source": [
    "**A. Logistic Regression**"
   ]
  },
  {
   "cell_type": "code",
   "execution_count": 53,
   "metadata": {},
   "outputs": [],
   "source": [
    "lr<-glm(formula=Chance.of.Admit~University.Rating+SOP+LOR+Research+GRE.Score+TOEFL.Score+CGPA, data=df, family='quasibinomial')"
   ]
  },
  {
   "cell_type": "code",
   "execution_count": 54,
   "metadata": {},
   "outputs": [
    {
     "data": {
      "text/plain": [
       "\n",
       "Call:  glm(formula = Chance.of.Admit ~ University.Rating + SOP + LOR + \n",
       "    Research + GRE.Score + TOEFL.Score + CGPA, family = \"quasibinomial\", \n",
       "    data = df)\n",
       "\n",
       "Coefficients:\n",
       "      (Intercept)  University.Rating                SOP                LOR  \n",
       "         -9.88160            0.04652           -0.02898            0.11511  \n",
       "         Research          GRE.Score        TOEFL.Score               CGPA  \n",
       "          0.12856            0.01010            0.01740            0.62458  \n",
       "\n",
       "Degrees of Freedom: 399 Total (i.e. Null);  392 Residual\n",
       "Null Deviance:\t    42.95 \n",
       "Residual Deviance: 8.897 \tAIC: NA"
      ]
     },
     "metadata": {},
     "output_type": "display_data"
    }
   ],
   "source": [
    "lr"
   ]
  },
  {
   "cell_type": "markdown",
   "metadata": {},
   "source": [
    "In the logistic regression model, slightly different results occurred.  The cumulative GPA still came out the most significant followed by research, letter of recommendation, TOEFL score, university rating, gre score.  The statement of purpose came out as not significant. "
   ]
  },
  {
   "cell_type": "markdown",
   "metadata": {},
   "source": [
    "The plots below show that logistic regression may not be the best model since it does not fit the data well. "
   ]
  },
  {
   "cell_type": "code",
   "execution_count": 55,
   "metadata": {
    "scrolled": false
   },
   "outputs": [
    {
     "data": {
      "image/png": "[encoded data removed]",
      "text/plain": [
       "Plot with title \"\""
      ]
     },
     "metadata": {},
     "output_type": "display_data"
    },
    {
     "data": {
      "image/png": "[encoded data removed]",
      "text/plain": [
       "Plot with title \"\""
      ]
     },
     "metadata": {},
     "output_type": "display_data"
    },
    {
     "data": {
      "image/png": "[encoded data removed]",
      "text/plain": [
       "Plot with title \"\""
      ]
     },
     "metadata": {},
     "output_type": "display_data"
    },
    {
     "data": {
      "image/png": "[encoded data removed]",
      "text/plain": [
       "Plot with title \"\""
      ]
     },
     "metadata": {},
     "output_type": "display_data"
    }
   ],
   "source": [
    "plot(lr)"
   ]
  },
  {
   "cell_type": "code",
   "execution_count": 56,
   "metadata": {},
   "outputs": [
    {
     "name": "stderr",
     "output_type": "stream",
     "text": [
      "Waiting for profiling to be done...\n"
     ]
    },
    {
     "data": {
      "text/html": [
       "<table>\n",
       "<thead><tr><th></th><th scope=col>OR</th><th scope=col>2.5 %</th><th scope=col>97.5 %</th><th scope=col>p</th></tr></thead>\n",
       "<tbody>\n",
       "\t<tr><th scope=row>(Intercept)</th><td>5.110646e-05</td><td>1.321513e-05</td><td>0.0001972763</td><td>9.507172e-38</td></tr>\n",
       "\t<tr><th scope=row>University.Rating</th><td>1.047619e+00</td><td>9.941271e-01</td><td>1.1040342130</td><td>8.279527e-02</td></tr>\n",
       "\t<tr><th scope=row>SOP</th><td>9.714388e-01</td><td>9.162353e-01</td><td>1.0299314693</td><td>3.320867e-01</td></tr>\n",
       "\t<tr><th scope=row>LOR</th><td>1.122002e+00</td><td>1.056573e+00</td><td>1.1915600867</td><td>2.009288e-04</td></tr>\n",
       "\t<tr><th scope=row>Research</th><td>1.137190e+00</td><td>1.045691e+00</td><td>1.2366555331</td><td>2.829936e-03</td></tr>\n",
       "\t<tr><th scope=row>GRE.Score</th><td>1.010148e+00</td><td>1.003840e+00</td><td>1.0164949859</td><td>1.703708e-03</td></tr>\n",
       "\t<tr><th scope=row>TOEFL.Score</th><td>1.017550e+00</td><td>1.005535e+00</td><td>1.0297041221</td><td>4.306934e-03</td></tr>\n",
       "\t<tr><th scope=row>CGPA</th><td>1.867453e+00</td><td>1.640955e+00</td><td>2.1252402357</td><td>2.723628e-19</td></tr>\n",
       "</tbody>\n",
       "</table>\n"
      ],
      "text/latex": [
       "\\begin{tabular}{r|llll}\n",
       "  & OR & 2.5 \\% & 97.5 \\% & p\\\\\n",
       "\\hline\n",
       "\t(Intercept) & 5.110646e-05 & 1.321513e-05 & 0.0001972763 & 9.507172e-38\\\\\n",
       "\tUniversity.Rating & 1.047619e+00 & 9.941271e-01 & 1.1040342130 & 8.279527e-02\\\\\n",
       "\tSOP & 9.714388e-01 & 9.162353e-01 & 1.0299314693 & 3.320867e-01\\\\\n",
       "\tLOR & 1.122002e+00 & 1.056573e+00 & 1.1915600867 & 2.009288e-04\\\\\n",
       "\tResearch & 1.137190e+00 & 1.045691e+00 & 1.2366555331 & 2.829936e-03\\\\\n",
       "\tGRE.Score & 1.010148e+00 & 1.003840e+00 & 1.0164949859 & 1.703708e-03\\\\\n",
       "\tTOEFL.Score & 1.017550e+00 & 1.005535e+00 & 1.0297041221 & 4.306934e-03\\\\\n",
       "\tCGPA & 1.867453e+00 & 1.640955e+00 & 2.1252402357 & 2.723628e-19\\\\\n",
       "\\end{tabular}\n"
      ],
      "text/markdown": [
       "\n",
       "| <!--/--> | OR | 2.5 % | 97.5 % | p | \n",
       "|---|---|---|---|---|---|---|---|\n",
       "| (Intercept) | 5.110646e-05 | 1.321513e-05 | 0.0001972763 | 9.507172e-38 | \n",
       "| University.Rating | 1.047619e+00 | 9.941271e-01 | 1.1040342130 | 8.279527e-02 | \n",
       "| SOP | 9.714388e-01 | 9.162353e-01 | 1.0299314693 | 3.320867e-01 | \n",
       "| LOR | 1.122002e+00 | 1.056573e+00 | 1.1915600867 | 2.009288e-04 | \n",
       "| Research | 1.137190e+00 | 1.045691e+00 | 1.2366555331 | 2.829936e-03 | \n",
       "| GRE.Score | 1.010148e+00 | 1.003840e+00 | 1.0164949859 | 1.703708e-03 | \n",
       "| TOEFL.Score | 1.017550e+00 | 1.005535e+00 | 1.0297041221 | 4.306934e-03 | \n",
       "| CGPA | 1.867453e+00 | 1.640955e+00 | 2.1252402357 | 2.723628e-19 | \n",
       "\n",
       "\n"
      ],
      "text/plain": [
       "                  OR           2.5 %        97.5 %       p           \n",
       "(Intercept)       5.110646e-05 1.321513e-05 0.0001972763 9.507172e-38\n",
       "University.Rating 1.047619e+00 9.941271e-01 1.1040342130 8.279527e-02\n",
       "SOP               9.714388e-01 9.162353e-01 1.0299314693 3.320867e-01\n",
       "LOR               1.122002e+00 1.056573e+00 1.1915600867 2.009288e-04\n",
       "Research          1.137190e+00 1.045691e+00 1.2366555331 2.829936e-03\n",
       "GRE.Score         1.010148e+00 1.003840e+00 1.0164949859 1.703708e-03\n",
       "TOEFL.Score       1.017550e+00 1.005535e+00 1.0297041221 4.306934e-03\n",
       "CGPA              1.867453e+00 1.640955e+00 2.1252402357 2.723628e-19"
      ]
     },
     "metadata": {},
     "output_type": "display_data"
    }
   ],
   "source": [
    "odds.ratio(lr)"
   ]
  },
  {
   "cell_type": "markdown",
   "metadata": {},
   "source": [
    "**B. Random Forest**"
   ]
  },
  {
   "cell_type": "code",
   "execution_count": 57,
   "metadata": {},
   "outputs": [],
   "source": [
    "rf<-randomForest(formula=Chance.of.Admit~University.Rating+SOP+LOR+Research+GRE.Score+TOEFL.Score+CGPA, data=df)"
   ]
  },
  {
   "cell_type": "code",
   "execution_count": 58,
   "metadata": {},
   "outputs": [
    {
     "data": {
      "image/png": "[encoded data removed]",
      "text/plain": [
       "Plot with title \"rf\""
      ]
     },
     "metadata": {},
     "output_type": "display_data"
    }
   ],
   "source": [
    "varImpPlot(rf,pch=19)"
   ]
  },
  {
   "cell_type": "markdown",
   "metadata": {},
   "source": [
    "The cumulative GPA is the most important in graduate admissions followed by the GRE Score, TOEFL Score, University Rating, Statement of Purpose, Letter of Recommendation.  Research is the least important factor in the dataset for chance of admission."
   ]
  },
  {
   "cell_type": "code",
   "execution_count": 59,
   "metadata": {},
   "outputs": [
    {
     "data": {
      "image/png": "[encoded data removed]",
      "text/plain": [
       "Plot with title \"rf\""
      ]
     },
     "metadata": {},
     "output_type": "display_data"
    }
   ],
   "source": [
    "plot(rf)"
   ]
  },
  {
   "cell_type": "markdown",
   "metadata": {},
   "source": [
    "**C. Gradient Boosting** "
   ]
  },
  {
   "cell_type": "code",
   "execution_count": 60,
   "metadata": {},
   "outputs": [
    {
     "name": "stdout",
     "output_type": "stream",
     "text": [
      "Distribution not specified, assuming gaussian ...\n"
     ]
    }
   ],
   "source": [
    "gb<-gbm(Chance.of.Admit~University.Rating+SOP+LOR+Research+GRE.Score+TOEFL.Score+CGPA, data=df, shrinkage = 0.01, interaction.depth = 4)"
   ]
  },
  {
   "cell_type": "code",
   "execution_count": 61,
   "metadata": {},
   "outputs": [
    {
     "data": {
      "text/plain": [
       "gbm(formula = Chance.of.Admit ~ University.Rating + SOP + LOR + \n",
       "    Research + GRE.Score + TOEFL.Score + CGPA, data = df, interaction.depth = 4, \n",
       "    shrinkage = 0.01)\n",
       "A gradient boosted model with gaussian loss function.\n",
       "100 iterations were performed.\n",
       "There were 7 predictors of which 7 had non-zero influence."
      ]
     },
     "metadata": {},
     "output_type": "display_data"
    }
   ],
   "source": [
    "gb"
   ]
  },
  {
   "cell_type": "code",
   "execution_count": 62,
   "metadata": {},
   "outputs": [
    {
     "data": {
      "text/html": [
       "<table>\n",
       "<thead><tr><th></th><th scope=col>var</th><th scope=col>rel.inf</th></tr></thead>\n",
       "<tbody>\n",
       "\t<tr><th scope=row>CGPA</th><td>CGPA             </td><td>75.3549970       </td></tr>\n",
       "\t<tr><th scope=row>GRE.Score</th><td>GRE.Score        </td><td>19.7264079       </td></tr>\n",
       "\t<tr><th scope=row>TOEFL.Score</th><td>TOEFL.Score      </td><td> 2.8033962       </td></tr>\n",
       "\t<tr><th scope=row>LOR</th><td>LOR              </td><td> 0.9787440       </td></tr>\n",
       "\t<tr><th scope=row>Research</th><td>Research         </td><td> 0.5463380       </td></tr>\n",
       "\t<tr><th scope=row>University.Rating</th><td>University.Rating</td><td> 0.3659694       </td></tr>\n",
       "\t<tr><th scope=row>SOP</th><td>SOP              </td><td> 0.2241476       </td></tr>\n",
       "</tbody>\n",
       "</table>\n"
      ],
      "text/latex": [
       "\\begin{tabular}{r|ll}\n",
       "  & var & rel.inf\\\\\n",
       "\\hline\n",
       "\tCGPA & CGPA              & 75.3549970       \\\\\n",
       "\tGRE.Score & GRE.Score         & 19.7264079       \\\\\n",
       "\tTOEFL.Score & TOEFL.Score       &  2.8033962       \\\\\n",
       "\tLOR & LOR               &  0.9787440       \\\\\n",
       "\tResearch & Research          &  0.5463380       \\\\\n",
       "\tUniversity.Rating & University.Rating &  0.3659694       \\\\\n",
       "\tSOP & SOP               &  0.2241476       \\\\\n",
       "\\end{tabular}\n"
      ],
      "text/markdown": [
       "\n",
       "| <!--/--> | var | rel.inf | \n",
       "|---|---|---|---|---|---|---|\n",
       "| CGPA | CGPA              | 75.3549970        | \n",
       "| GRE.Score | GRE.Score         | 19.7264079        | \n",
       "| TOEFL.Score | TOEFL.Score       |  2.8033962        | \n",
       "| LOR | LOR               |  0.9787440        | \n",
       "| Research | Research          |  0.5463380        | \n",
       "| University.Rating | University.Rating |  0.3659694        | \n",
       "| SOP | SOP               |  0.2241476        | \n",
       "\n",
       "\n"
      ],
      "text/plain": [
       "                  var               rel.inf   \n",
       "CGPA              CGPA              75.3549970\n",
       "GRE.Score         GRE.Score         19.7264079\n",
       "TOEFL.Score       TOEFL.Score        2.8033962\n",
       "LOR               LOR                0.9787440\n",
       "Research          Research           0.5463380\n",
       "University.Rating University.Rating  0.3659694\n",
       "SOP               SOP                0.2241476"
      ]
     },
     "metadata": {},
     "output_type": "display_data"
    },
    {
     "data": {
      "image/png": "[encoded data removed]",
      "text/plain": [
       "plot without title"
      ]
     },
     "metadata": {},
     "output_type": "display_data"
    }
   ],
   "source": [
    "summary(gb)"
   ]
  },
  {
   "cell_type": "markdown",
   "metadata": {},
   "source": [
    "The cumulative GPA is the most important in graduate admissions followed by the GRE Score, TOEFL Score, Letter of Recommendation, Research, University Rating.  Statement of Purpose is the least important factor in the dataset for chance of admission.  The top three categories are the same for the gradient boosting and random forest model.  However, the order of most of the other factors are different.  "
   ]
  },
  {
   "cell_type": "markdown",
   "metadata": {},
   "source": [
    "Looking at some of the graphs of variables that showed up important: "
   ]
  },
  {
   "cell_type": "code",
   "execution_count": 63,
   "metadata": {
    "scrolled": false
   },
   "outputs": [
    {
     "data": {
      "image/png": "[encoded data removed]",
      "text/plain": [
       "plot without title"
      ]
     },
     "metadata": {},
     "output_type": "display_data"
    },
    {
     "data": {
      "image/png": "[encoded data removed]",
      "text/plain": [
       "plot without title"
      ]
     },
     "metadata": {},
     "output_type": "display_data"
    },
    {
     "data": {
      "image/png": "[encoded data removed]",
      "text/plain": [
       "plot without title"
      ]
     },
     "metadata": {},
     "output_type": "display_data"
    }
   ],
   "source": [
    "plot(gb, i='CGPA')\n",
    "plot(gb, i='GRE.Score')\n",
    "plot(gb, i='TOEFL.Score')"
   ]
  },
  {
   "cell_type": "markdown",
   "metadata": {},
   "source": [
    "As you can see for most of them there is a steady increase in being admitted to grad school the higher your test scores (GRE, TOEFL) and GPA are."
   ]
  }
 ],
 "metadata": {
  "kernelspec": {
   "display_name": "R",
   "language": "R",
   "name": "ir"
  },
  "language_info": {
   "codemirror_mode": "r",
   "file_extension": ".r",
   "mimetype": "text/x-r-source",
   "name": "R",
   "pygments_lexer": "r",
   "version": "3.4.3"
  }
 },
 "nbformat": 4,
 "nbformat_minor": 2
}
